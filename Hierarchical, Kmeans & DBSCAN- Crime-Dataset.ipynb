{
 "cells": [
  {
   "cell_type": "markdown",
   "id": "9d31fa94",
   "metadata": {},
   "source": [
    "# Hierarchical-K_means-DBSCAN"
   ]
  },
  {
   "cell_type": "markdown",
   "id": "1e95acf8",
   "metadata": {},
   "source": [
    "## Importing Libraries"
   ]
  },
  {
   "cell_type": "code",
   "execution_count": 1,
   "id": "02249109",
   "metadata": {
    "ExecuteTime": {
     "end_time": "2022-01-26T18:49:16.188884Z",
     "start_time": "2022-01-26T18:48:47.413719Z"
    }
   },
   "outputs": [],
   "source": [
    "import pandas as pd                                   #read dataset\n",
    "import numpy as np                                    #help in array building    \n",
    "import seaborn as sns                                 #visualizing data\n",
    "import matplotlib.pylab as plt                        #visualizing data\n",
    "from sklearn.preprocessing import StandardScaler, normalize      #standardization of data to balance the unit between different variables  \n",
    "sns.set()\n",
    "import scipy.cluster.hierarchy as sch                 #for creating dendrogram \n",
    "from sklearn.cluster import AgglomerativeClustering   #for Agglomerative is a hierarchical clustering method that applies the \"bottom-up\" approach to group the elements in a dataset. \n",
    "from sklearn.decomposition import PCA                 #We’ll employ PCA to reduce the number of features in our data set Dimensionality Reduction\n",
    "from scipy.cluster.hierarchy import linkage           #Performs hierarchical/agglomerative clustering on the condensed distance matrix\n",
    "from sklearn.cluster import KMeans                    #The K-means clustering algorithm is used to find groups which have not been explicitly labeled in the data.\n",
    "from sklearn.cluster import DBSCAN                    #DBSCAN is a clustering method that is used in machine learning to separate clusters of high density from clusters of low density. \n",
    "%matplotlib inline\n",
    "from scipy import stats\n",
    "from sklearn.metrics import silhouette_score\n",
    "import matplotlib"
   ]
  },
  {
   "cell_type": "markdown",
   "id": "6d70239f",
   "metadata": {},
   "source": [
    "## Importing Dataset"
   ]
  },
  {
   "cell_type": "code",
   "execution_count": 2,
   "id": "c85c2ab5",
   "metadata": {
    "ExecuteTime": {
     "end_time": "2022-01-26T18:49:16.251717Z",
     "start_time": "2022-01-26T18:49:16.191212Z"
    }
   },
   "outputs": [
    {
     "data": {
      "text/html": [
       "<div>\n",
       "<style scoped>\n",
       "    .dataframe tbody tr th:only-of-type {\n",
       "        vertical-align: middle;\n",
       "    }\n",
       "\n",
       "    .dataframe tbody tr th {\n",
       "        vertical-align: top;\n",
       "    }\n",
       "\n",
       "    .dataframe thead th {\n",
       "        text-align: right;\n",
       "    }\n",
       "</style>\n",
       "<table border=\"1\" class=\"dataframe\">\n",
       "  <thead>\n",
       "    <tr style=\"text-align: right;\">\n",
       "      <th></th>\n",
       "      <th>Unnamed: 0</th>\n",
       "      <th>Murder</th>\n",
       "      <th>Assault</th>\n",
       "      <th>UrbanPop</th>\n",
       "      <th>Rape</th>\n",
       "    </tr>\n",
       "  </thead>\n",
       "  <tbody>\n",
       "    <tr>\n",
       "      <th>0</th>\n",
       "      <td>Alabama</td>\n",
       "      <td>13.2</td>\n",
       "      <td>236</td>\n",
       "      <td>58</td>\n",
       "      <td>21.2</td>\n",
       "    </tr>\n",
       "    <tr>\n",
       "      <th>1</th>\n",
       "      <td>Alaska</td>\n",
       "      <td>10.0</td>\n",
       "      <td>263</td>\n",
       "      <td>48</td>\n",
       "      <td>44.5</td>\n",
       "    </tr>\n",
       "    <tr>\n",
       "      <th>2</th>\n",
       "      <td>Arizona</td>\n",
       "      <td>8.1</td>\n",
       "      <td>294</td>\n",
       "      <td>80</td>\n",
       "      <td>31.0</td>\n",
       "    </tr>\n",
       "    <tr>\n",
       "      <th>3</th>\n",
       "      <td>Arkansas</td>\n",
       "      <td>8.8</td>\n",
       "      <td>190</td>\n",
       "      <td>50</td>\n",
       "      <td>19.5</td>\n",
       "    </tr>\n",
       "    <tr>\n",
       "      <th>4</th>\n",
       "      <td>California</td>\n",
       "      <td>9.0</td>\n",
       "      <td>276</td>\n",
       "      <td>91</td>\n",
       "      <td>40.6</td>\n",
       "    </tr>\n",
       "    <tr>\n",
       "      <th>5</th>\n",
       "      <td>Colorado</td>\n",
       "      <td>7.9</td>\n",
       "      <td>204</td>\n",
       "      <td>78</td>\n",
       "      <td>38.7</td>\n",
       "    </tr>\n",
       "    <tr>\n",
       "      <th>6</th>\n",
       "      <td>Connecticut</td>\n",
       "      <td>3.3</td>\n",
       "      <td>110</td>\n",
       "      <td>77</td>\n",
       "      <td>11.1</td>\n",
       "    </tr>\n",
       "    <tr>\n",
       "      <th>7</th>\n",
       "      <td>Delaware</td>\n",
       "      <td>5.9</td>\n",
       "      <td>238</td>\n",
       "      <td>72</td>\n",
       "      <td>15.8</td>\n",
       "    </tr>\n",
       "    <tr>\n",
       "      <th>8</th>\n",
       "      <td>Florida</td>\n",
       "      <td>15.4</td>\n",
       "      <td>335</td>\n",
       "      <td>80</td>\n",
       "      <td>31.9</td>\n",
       "    </tr>\n",
       "    <tr>\n",
       "      <th>9</th>\n",
       "      <td>Georgia</td>\n",
       "      <td>17.4</td>\n",
       "      <td>211</td>\n",
       "      <td>60</td>\n",
       "      <td>25.8</td>\n",
       "    </tr>\n",
       "    <tr>\n",
       "      <th>10</th>\n",
       "      <td>Hawaii</td>\n",
       "      <td>5.3</td>\n",
       "      <td>46</td>\n",
       "      <td>83</td>\n",
       "      <td>20.2</td>\n",
       "    </tr>\n",
       "    <tr>\n",
       "      <th>11</th>\n",
       "      <td>Idaho</td>\n",
       "      <td>2.6</td>\n",
       "      <td>120</td>\n",
       "      <td>54</td>\n",
       "      <td>14.2</td>\n",
       "    </tr>\n",
       "    <tr>\n",
       "      <th>12</th>\n",
       "      <td>Illinois</td>\n",
       "      <td>10.4</td>\n",
       "      <td>249</td>\n",
       "      <td>83</td>\n",
       "      <td>24.0</td>\n",
       "    </tr>\n",
       "    <tr>\n",
       "      <th>13</th>\n",
       "      <td>Indiana</td>\n",
       "      <td>7.2</td>\n",
       "      <td>113</td>\n",
       "      <td>65</td>\n",
       "      <td>21.0</td>\n",
       "    </tr>\n",
       "    <tr>\n",
       "      <th>14</th>\n",
       "      <td>Iowa</td>\n",
       "      <td>2.2</td>\n",
       "      <td>56</td>\n",
       "      <td>57</td>\n",
       "      <td>11.3</td>\n",
       "    </tr>\n",
       "  </tbody>\n",
       "</table>\n",
       "</div>"
      ],
      "text/plain": [
       "     Unnamed: 0  Murder  Assault  UrbanPop  Rape\n",
       "0       Alabama    13.2      236        58  21.2\n",
       "1        Alaska    10.0      263        48  44.5\n",
       "2       Arizona     8.1      294        80  31.0\n",
       "3      Arkansas     8.8      190        50  19.5\n",
       "4    California     9.0      276        91  40.6\n",
       "5      Colorado     7.9      204        78  38.7\n",
       "6   Connecticut     3.3      110        77  11.1\n",
       "7      Delaware     5.9      238        72  15.8\n",
       "8       Florida    15.4      335        80  31.9\n",
       "9       Georgia    17.4      211        60  25.8\n",
       "10       Hawaii     5.3       46        83  20.2\n",
       "11        Idaho     2.6      120        54  14.2\n",
       "12     Illinois    10.4      249        83  24.0\n",
       "13      Indiana     7.2      113        65  21.0\n",
       "14         Iowa     2.2       56        57  11.3"
      ]
     },
     "execution_count": 2,
     "metadata": {},
     "output_type": "execute_result"
    }
   ],
   "source": [
    "crime_data= pd.read_csv('crime_data.csv')\n",
    "crime_data.head(15)"
   ]
  },
  {
   "cell_type": "code",
   "execution_count": 3,
   "id": "c576ebe1",
   "metadata": {
    "ExecuteTime": {
     "end_time": "2022-01-26T18:49:16.422715Z",
     "start_time": "2022-01-26T18:49:16.252715Z"
    }
   },
   "outputs": [
    {
     "data": {
      "text/plain": [
       "(50, 5)"
      ]
     },
     "execution_count": 3,
     "metadata": {},
     "output_type": "execute_result"
    }
   ],
   "source": [
    "crime_data.shape"
   ]
  },
  {
   "cell_type": "markdown",
   "id": "7813dc60",
   "metadata": {},
   "source": [
    "## Understanding dataset\n",
    "\n",
    "The dataset is of 50 state of America crime data.\n",
    "\n",
    "Data Description:\n",
    "\n",
    "Murder -- Muder rates in different places of United States\n",
    "\n",
    "Assualt- Assualt rate in different places of United States\n",
    "\n",
    "UrbanPop - urban population in different places of United States\n",
    "\n",
    "Rape - Rape rate in different places of United States"
   ]
  },
  {
   "cell_type": "markdown",
   "id": "d09da397",
   "metadata": {},
   "source": [
    "## Working Problem\n",
    "\n",
    "Perform Clustering(Hierarchical, Kmeans & DBSCAN) for the crime data and identify the number of clusters formed and draw inferences."
   ]
  },
  {
   "cell_type": "markdown",
   "id": "ab6a7b15",
   "metadata": {},
   "source": [
    "## Step1- EDA"
   ]
  },
  {
   "cell_type": "code",
   "execution_count": 4,
   "id": "c00b0aa1",
   "metadata": {
    "ExecuteTime": {
     "end_time": "2022-01-26T18:49:16.610209Z",
     "start_time": "2022-01-26T18:49:16.423713Z"
    }
   },
   "outputs": [
    {
     "name": "stdout",
     "output_type": "stream",
     "text": [
      "<class 'pandas.core.frame.DataFrame'>\n",
      "RangeIndex: 50 entries, 0 to 49\n",
      "Data columns (total 5 columns):\n",
      " #   Column      Non-Null Count  Dtype  \n",
      "---  ------      --------------  -----  \n",
      " 0   Unnamed: 0  50 non-null     object \n",
      " 1   Murder      50 non-null     float64\n",
      " 2   Assault     50 non-null     int64  \n",
      " 3   UrbanPop    50 non-null     int64  \n",
      " 4   Rape        50 non-null     float64\n",
      "dtypes: float64(2), int64(2), object(1)\n",
      "memory usage: 2.1+ KB\n"
     ]
    }
   ],
   "source": [
    "crime_data.info()"
   ]
  },
  {
   "cell_type": "code",
   "execution_count": 5,
   "id": "d13dad7c",
   "metadata": {
    "ExecuteTime": {
     "end_time": "2022-01-26T18:49:16.937118Z",
     "start_time": "2022-01-26T18:49:16.616193Z"
    }
   },
   "outputs": [
    {
     "data": {
      "text/html": [
       "<div>\n",
       "<style scoped>\n",
       "    .dataframe tbody tr th:only-of-type {\n",
       "        vertical-align: middle;\n",
       "    }\n",
       "\n",
       "    .dataframe tbody tr th {\n",
       "        vertical-align: top;\n",
       "    }\n",
       "\n",
       "    .dataframe thead th {\n",
       "        text-align: right;\n",
       "    }\n",
       "</style>\n",
       "<table border=\"1\" class=\"dataframe\">\n",
       "  <thead>\n",
       "    <tr style=\"text-align: right;\">\n",
       "      <th></th>\n",
       "      <th>Unnamed: 0</th>\n",
       "      <th>Murder</th>\n",
       "      <th>Assault</th>\n",
       "      <th>UrbanPop</th>\n",
       "      <th>Rape</th>\n",
       "    </tr>\n",
       "  </thead>\n",
       "  <tbody>\n",
       "    <tr>\n",
       "      <th>count</th>\n",
       "      <td>50</td>\n",
       "      <td>50.00000</td>\n",
       "      <td>50.000000</td>\n",
       "      <td>50.000000</td>\n",
       "      <td>50.000000</td>\n",
       "    </tr>\n",
       "    <tr>\n",
       "      <th>unique</th>\n",
       "      <td>50</td>\n",
       "      <td>NaN</td>\n",
       "      <td>NaN</td>\n",
       "      <td>NaN</td>\n",
       "      <td>NaN</td>\n",
       "    </tr>\n",
       "    <tr>\n",
       "      <th>top</th>\n",
       "      <td>Alabama</td>\n",
       "      <td>NaN</td>\n",
       "      <td>NaN</td>\n",
       "      <td>NaN</td>\n",
       "      <td>NaN</td>\n",
       "    </tr>\n",
       "    <tr>\n",
       "      <th>freq</th>\n",
       "      <td>1</td>\n",
       "      <td>NaN</td>\n",
       "      <td>NaN</td>\n",
       "      <td>NaN</td>\n",
       "      <td>NaN</td>\n",
       "    </tr>\n",
       "    <tr>\n",
       "      <th>mean</th>\n",
       "      <td>NaN</td>\n",
       "      <td>7.78800</td>\n",
       "      <td>170.760000</td>\n",
       "      <td>65.540000</td>\n",
       "      <td>21.232000</td>\n",
       "    </tr>\n",
       "    <tr>\n",
       "      <th>std</th>\n",
       "      <td>NaN</td>\n",
       "      <td>4.35551</td>\n",
       "      <td>83.337661</td>\n",
       "      <td>14.474763</td>\n",
       "      <td>9.366385</td>\n",
       "    </tr>\n",
       "    <tr>\n",
       "      <th>min</th>\n",
       "      <td>NaN</td>\n",
       "      <td>0.80000</td>\n",
       "      <td>45.000000</td>\n",
       "      <td>32.000000</td>\n",
       "      <td>7.300000</td>\n",
       "    </tr>\n",
       "    <tr>\n",
       "      <th>25%</th>\n",
       "      <td>NaN</td>\n",
       "      <td>4.07500</td>\n",
       "      <td>109.000000</td>\n",
       "      <td>54.500000</td>\n",
       "      <td>15.075000</td>\n",
       "    </tr>\n",
       "    <tr>\n",
       "      <th>50%</th>\n",
       "      <td>NaN</td>\n",
       "      <td>7.25000</td>\n",
       "      <td>159.000000</td>\n",
       "      <td>66.000000</td>\n",
       "      <td>20.100000</td>\n",
       "    </tr>\n",
       "    <tr>\n",
       "      <th>75%</th>\n",
       "      <td>NaN</td>\n",
       "      <td>11.25000</td>\n",
       "      <td>249.000000</td>\n",
       "      <td>77.750000</td>\n",
       "      <td>26.175000</td>\n",
       "    </tr>\n",
       "    <tr>\n",
       "      <th>max</th>\n",
       "      <td>NaN</td>\n",
       "      <td>17.40000</td>\n",
       "      <td>337.000000</td>\n",
       "      <td>91.000000</td>\n",
       "      <td>46.000000</td>\n",
       "    </tr>\n",
       "  </tbody>\n",
       "</table>\n",
       "</div>"
      ],
      "text/plain": [
       "       Unnamed: 0    Murder     Assault   UrbanPop       Rape\n",
       "count          50  50.00000   50.000000  50.000000  50.000000\n",
       "unique         50       NaN         NaN        NaN        NaN\n",
       "top       Alabama       NaN         NaN        NaN        NaN\n",
       "freq            1       NaN         NaN        NaN        NaN\n",
       "mean          NaN   7.78800  170.760000  65.540000  21.232000\n",
       "std           NaN   4.35551   83.337661  14.474763   9.366385\n",
       "min           NaN   0.80000   45.000000  32.000000   7.300000\n",
       "25%           NaN   4.07500  109.000000  54.500000  15.075000\n",
       "50%           NaN   7.25000  159.000000  66.000000  20.100000\n",
       "75%           NaN  11.25000  249.000000  77.750000  26.175000\n",
       "max           NaN  17.40000  337.000000  91.000000  46.000000"
      ]
     },
     "execution_count": 5,
     "metadata": {},
     "output_type": "execute_result"
    }
   ],
   "source": [
    "crime_data.describe(include='all')"
   ]
  },
  {
   "cell_type": "code",
   "execution_count": 6,
   "id": "19e4175b",
   "metadata": {
    "ExecuteTime": {
     "end_time": "2022-01-26T18:49:16.952652Z",
     "start_time": "2022-01-26T18:49:16.938130Z"
    }
   },
   "outputs": [
    {
     "data": {
      "text/plain": [
       "Unnamed: 0    0\n",
       "Murder        0\n",
       "Assault       0\n",
       "UrbanPop      0\n",
       "Rape          0\n",
       "dtype: int64"
      ]
     },
     "execution_count": 6,
     "metadata": {},
     "output_type": "execute_result"
    }
   ],
   "source": [
    "#Check missing value\n",
    "crime_data.isnull().sum()"
   ]
  },
  {
   "cell_type": "code",
   "execution_count": 7,
   "id": "d06df8ef",
   "metadata": {
    "ExecuteTime": {
     "end_time": "2022-01-26T18:49:17.139854Z",
     "start_time": "2022-01-26T18:49:16.954581Z"
    }
   },
   "outputs": [
    {
     "data": {
      "text/plain": [
       "Unnamed: 0    0.0\n",
       "Murder        0.0\n",
       "Assault       0.0\n",
       "UrbanPop      0.0\n",
       "Rape          0.0\n",
       "dtype: float64"
      ]
     },
     "execution_count": 7,
     "metadata": {},
     "output_type": "execute_result"
    }
   ],
   "source": [
    "# Checking the percentage of missing values\n",
    "round(100*(crime_data.isnull().sum()/len(crime_data.index)), 2)"
   ]
  },
  {
   "cell_type": "code",
   "execution_count": 8,
   "id": "92c6e39d",
   "metadata": {
    "ExecuteTime": {
     "end_time": "2022-01-26T18:49:17.265618Z",
     "start_time": "2022-01-26T18:49:17.145662Z"
    }
   },
   "outputs": [
    {
     "data": {
      "text/plain": [
       "Index(['Unnamed: 0', 'Murder', 'Assault', 'UrbanPop', 'Rape'], dtype='object')"
      ]
     },
     "execution_count": 8,
     "metadata": {},
     "output_type": "execute_result"
    }
   ],
   "source": [
    "#There are no null value in our dataset\n",
    "crime_data.columns"
   ]
  },
  {
   "cell_type": "code",
   "execution_count": 9,
   "id": "c3b86b85",
   "metadata": {
    "ExecuteTime": {
     "end_time": "2022-01-26T18:49:17.389407Z",
     "start_time": "2022-01-26T18:49:17.271767Z"
    }
   },
   "outputs": [
    {
     "data": {
      "text/html": [
       "<div>\n",
       "<style scoped>\n",
       "    .dataframe tbody tr th:only-of-type {\n",
       "        vertical-align: middle;\n",
       "    }\n",
       "\n",
       "    .dataframe tbody tr th {\n",
       "        vertical-align: top;\n",
       "    }\n",
       "\n",
       "    .dataframe thead th {\n",
       "        text-align: right;\n",
       "    }\n",
       "</style>\n",
       "<table border=\"1\" class=\"dataframe\">\n",
       "  <thead>\n",
       "    <tr style=\"text-align: right;\">\n",
       "      <th></th>\n",
       "      <th>State</th>\n",
       "      <th>Murder</th>\n",
       "      <th>Assault</th>\n",
       "      <th>UrbanPop</th>\n",
       "      <th>Rape</th>\n",
       "    </tr>\n",
       "  </thead>\n",
       "  <tbody>\n",
       "    <tr>\n",
       "      <th>0</th>\n",
       "      <td>Alabama</td>\n",
       "      <td>13.2</td>\n",
       "      <td>236</td>\n",
       "      <td>58</td>\n",
       "      <td>21.2</td>\n",
       "    </tr>\n",
       "    <tr>\n",
       "      <th>1</th>\n",
       "      <td>Alaska</td>\n",
       "      <td>10.0</td>\n",
       "      <td>263</td>\n",
       "      <td>48</td>\n",
       "      <td>44.5</td>\n",
       "    </tr>\n",
       "    <tr>\n",
       "      <th>2</th>\n",
       "      <td>Arizona</td>\n",
       "      <td>8.1</td>\n",
       "      <td>294</td>\n",
       "      <td>80</td>\n",
       "      <td>31.0</td>\n",
       "    </tr>\n",
       "    <tr>\n",
       "      <th>3</th>\n",
       "      <td>Arkansas</td>\n",
       "      <td>8.8</td>\n",
       "      <td>190</td>\n",
       "      <td>50</td>\n",
       "      <td>19.5</td>\n",
       "    </tr>\n",
       "    <tr>\n",
       "      <th>4</th>\n",
       "      <td>California</td>\n",
       "      <td>9.0</td>\n",
       "      <td>276</td>\n",
       "      <td>91</td>\n",
       "      <td>40.6</td>\n",
       "    </tr>\n",
       "  </tbody>\n",
       "</table>\n",
       "</div>"
      ],
      "text/plain": [
       "        State  Murder  Assault  UrbanPop  Rape\n",
       "0     Alabama    13.2      236        58  21.2\n",
       "1      Alaska    10.0      263        48  44.5\n",
       "2     Arizona     8.1      294        80  31.0\n",
       "3    Arkansas     8.8      190        50  19.5\n",
       "4  California     9.0      276        91  40.6"
      ]
     },
     "execution_count": 9,
     "metadata": {},
     "output_type": "execute_result"
    }
   ],
   "source": [
    "#Rename columns\n",
    "crime_data=crime_data.rename(columns={'Unnamed: 0':'State'})\n",
    "crime_data.head()"
   ]
  },
  {
   "cell_type": "code",
   "execution_count": 10,
   "id": "dce2e890",
   "metadata": {
    "ExecuteTime": {
     "end_time": "2022-01-26T18:49:17.513938Z",
     "start_time": "2022-01-26T18:49:17.391160Z"
    }
   },
   "outputs": [
    {
     "data": {
      "text/plain": [
       "(0, 5)"
      ]
     },
     "execution_count": 10,
     "metadata": {},
     "output_type": "execute_result"
    }
   ],
   "source": [
    "# Check for rows containing duplicate\n",
    "duplicate= crime_data[crime_data.duplicated()]\n",
    "duplicate.shape"
   ]
  },
  {
   "cell_type": "code",
   "execution_count": 11,
   "id": "812265a4",
   "metadata": {
    "ExecuteTime": {
     "end_time": "2022-01-26T18:49:19.815004Z",
     "start_time": "2022-01-26T18:49:17.514795Z"
    }
   },
   "outputs": [
    {
     "data": {
      "text/plain": [
       "<AxesSubplot:xlabel='Rape'>"
      ]
     },
     "execution_count": 11,
     "metadata": {},
     "output_type": "execute_result"
    },
    {
     "data": {
      "image/png": "[encoded data removed]",
      "text/plain": [
       "<Figure size 4000x4000 with 4 Axes>"
      ]
     },
     "metadata": {
      "needs_background": "light"
     },
     "output_type": "display_data"
    }
   ],
   "source": [
    "#Checking for outliers\n",
    "plt.figure(figsize=(20,20), dpi=200)\n",
    "\n",
    "plt.subplot(4,3,1)\n",
    "sns.boxplot(x = 'Murder', data = crime_data)\n",
    "\n",
    "plt.subplot(4,3,2)\n",
    "sns.boxplot(x = 'Assault', data = crime_data)\n",
    "\n",
    "plt.subplot(4,3,3)\n",
    "sns.boxplot(x = 'UrbanPop', data = crime_data)\n",
    "\n",
    "plt.subplot(4,3,4)\n",
    "sns.boxplot(x = 'Rape', data = crime_data)"
   ]
  },
  {
   "cell_type": "markdown",
   "id": "d1e8da47",
   "metadata": {},
   "source": [
    "## Finding Outlier"
   ]
  },
  {
   "cell_type": "code",
   "execution_count": 12,
   "id": "6e767a6a",
   "metadata": {
    "ExecuteTime": {
     "end_time": "2022-01-26T18:49:19.876475Z",
     "start_time": "2022-01-26T18:49:19.816002Z"
    }
   },
   "outputs": [
    {
     "name": "stdout",
     "output_type": "stream",
     "text": [
      "(array([ 1, 27], dtype=int64),)\n",
      "(array([], dtype=int64),)\n"
     ]
    }
   ],
   "source": [
    "#Finding outliers using Inter Quartile Range (IQR)\n",
    "Q1= crime_data.Rape.quantile(0.25)\n",
    "Q3= crime_data.Rape.quantile(0.75)\n",
    "IQR= Q3-Q1\n",
    "lower_limit= Q1-(1.5*IQR)\n",
    "upper_limit= Q3+(1.5*IQR)\n",
    "upper= crime_data.Rape>=upper_limit\n",
    "print(np.where(upper))\n",
    "lower= crime_data.Rape<=lower_limit\n",
    "print(np.where(lower))"
   ]
  },
  {
   "cell_type": "code",
   "execution_count": 13,
   "id": "4a97bf6b",
   "metadata": {
    "ExecuteTime": {
     "end_time": "2022-01-26T18:49:20.078733Z",
     "start_time": "2022-01-26T18:49:19.882341Z"
    }
   },
   "outputs": [
    {
     "name": "stdout",
     "output_type": "stream",
     "text": [
      "(array([ 1,  4, 27], dtype=int64),)\n"
     ]
    }
   ],
   "source": [
    "# Position of the Outlier\n",
    "print(np.where(crime_data['Rape']>40))"
   ]
  },
  {
   "cell_type": "code",
   "execution_count": 14,
   "id": "7bd31368",
   "metadata": {
    "ExecuteTime": {
     "end_time": "2022-01-26T18:49:20.298406Z",
     "start_time": "2022-01-26T18:49:20.084501Z"
    }
   },
   "outputs": [
    {
     "data": {
      "text/html": [
       "<div>\n",
       "<style scoped>\n",
       "    .dataframe tbody tr th:only-of-type {\n",
       "        vertical-align: middle;\n",
       "    }\n",
       "\n",
       "    .dataframe tbody tr th {\n",
       "        vertical-align: top;\n",
       "    }\n",
       "\n",
       "    .dataframe thead th {\n",
       "        text-align: right;\n",
       "    }\n",
       "</style>\n",
       "<table border=\"1\" class=\"dataframe\">\n",
       "  <thead>\n",
       "    <tr style=\"text-align: right;\">\n",
       "      <th></th>\n",
       "      <th>State</th>\n",
       "      <th>Murder</th>\n",
       "      <th>Assault</th>\n",
       "      <th>UrbanPop</th>\n",
       "      <th>Rape</th>\n",
       "    </tr>\n",
       "  </thead>\n",
       "  <tbody>\n",
       "    <tr>\n",
       "      <th>1</th>\n",
       "      <td>Alaska</td>\n",
       "      <td>10.0</td>\n",
       "      <td>263</td>\n",
       "      <td>48</td>\n",
       "      <td>44.5</td>\n",
       "    </tr>\n",
       "    <tr>\n",
       "      <th>4</th>\n",
       "      <td>California</td>\n",
       "      <td>9.0</td>\n",
       "      <td>276</td>\n",
       "      <td>91</td>\n",
       "      <td>40.6</td>\n",
       "    </tr>\n",
       "    <tr>\n",
       "      <th>27</th>\n",
       "      <td>Nevada</td>\n",
       "      <td>12.2</td>\n",
       "      <td>252</td>\n",
       "      <td>81</td>\n",
       "      <td>46.0</td>\n",
       "    </tr>\n",
       "  </tbody>\n",
       "</table>\n",
       "</div>"
      ],
      "text/plain": [
       "         State  Murder  Assault  UrbanPop  Rape\n",
       "1       Alaska    10.0      263        48  44.5\n",
       "4   California     9.0      276        91  40.6\n",
       "27      Nevada    12.2      252        81  46.0"
      ]
     },
     "execution_count": 14,
     "metadata": {},
     "output_type": "execute_result"
    }
   ],
   "source": [
    "#seeing the row data\n",
    "result= crime_data.iloc[[ 1, 4, 27]]\n",
    "result"
   ]
  },
  {
   "cell_type": "markdown",
   "id": "a9b1d4c1",
   "metadata": {},
   "source": [
    "Outliers are unusual values in your dataset, and they can distort statistical analyses and violate their assumptions. As these outliers are just little higher than the others, but we can keep it as our dataset volume is not high.  "
   ]
  },
  {
   "cell_type": "code",
   "execution_count": 15,
   "id": "8e56d30d",
   "metadata": {
    "ExecuteTime": {
     "end_time": "2022-01-26T18:49:20.787089Z",
     "start_time": "2022-01-26T18:49:20.299402Z"
    }
   },
   "outputs": [
    {
     "data": {
      "text/plain": [
       "<AxesSubplot:>"
      ]
     },
     "execution_count": 15,
     "metadata": {},
     "output_type": "execute_result"
    },
    {
     "data": {
      "image/png": "[encoded data removed]",
      "text/plain": [
       "<Figure size 432x288 with 1 Axes>"
      ]
     },
     "metadata": {
      "needs_background": "light"
     },
     "output_type": "display_data"
    }
   ],
   "source": [
    "# Visualizing null values\n",
    "sns.heatmap(crime_data.isnull(),cbar=False, cmap='viridis')"
   ]
  },
  {
   "cell_type": "code",
   "execution_count": 16,
   "id": "b9bf4e00",
   "metadata": {
    "ExecuteTime": {
     "end_time": "2022-01-26T18:49:21.127827Z",
     "start_time": "2022-01-26T18:49:20.789088Z"
    }
   },
   "outputs": [
    {
     "data": {
      "image/png": "[encoded data removed]",
      "text/plain": [
       "<Figure size 720x576 with 2 Axes>"
      ]
     },
     "metadata": {
      "needs_background": "light"
     },
     "output_type": "display_data"
    }
   ],
   "source": [
    "corr= crime_data.corr()\n",
    "plt.figure(figsize=(10,8))\n",
    "sns.heatmap(corr,annot=True, cmap='RdBu',fmt='.2f')\n",
    "plt.show()"
   ]
  },
  {
   "cell_type": "markdown",
   "id": "32fda694",
   "metadata": {},
   "source": [
    "As from above heatmap we find Murder and Assault are highly correlated variables."
   ]
  },
  {
   "cell_type": "code",
   "execution_count": 17,
   "id": "df7cd72b",
   "metadata": {
    "ExecuteTime": {
     "end_time": "2022-01-26T18:49:24.387726Z",
     "start_time": "2022-01-26T18:49:21.129883Z"
    }
   },
   "outputs": [
    {
     "data": {
      "text/plain": [
       "<seaborn.axisgrid.PairGrid at 0x1a9a0bc8790>"
      ]
     },
     "execution_count": 17,
     "metadata": {},
     "output_type": "execute_result"
    },
    {
     "data": {
      "image/png": "[encoded data removed]",
      "text/plain": [
       "<Figure size 720x720 with 20 Axes>"
      ]
     },
     "metadata": {
      "needs_background": "light"
     },
     "output_type": "display_data"
    }
   ],
   "source": [
    "sns.pairplot(crime_data)"
   ]
  },
  {
   "cell_type": "code",
   "execution_count": 18,
   "id": "fc314df4",
   "metadata": {
    "ExecuteTime": {
     "end_time": "2022-01-26T18:49:25.090091Z",
     "start_time": "2022-01-26T18:49:24.389721Z"
    }
   },
   "outputs": [
    {
     "data": {
      "image/png": "[encoded data removed]",
      "text/plain": [
       "<Figure size 720x1080 with 1 Axes>"
      ]
     },
     "metadata": {
      "needs_background": "light"
     },
     "output_type": "display_data"
    }
   ],
   "source": [
    "plt.figure(figsize=(10,15))\n",
    "sns.barplot(y='State',x='UrbanPop',data=crime_data, order=crime_data.sort_values('UrbanPop').State, palette=\"Blues_d\")\n",
    "plt.show()"
   ]
  },
  {
   "cell_type": "code",
   "execution_count": 19,
   "id": "bfe5507b",
   "metadata": {
    "ExecuteTime": {
     "end_time": "2022-01-26T18:49:25.721096Z",
     "start_time": "2022-01-26T18:49:25.091037Z"
    }
   },
   "outputs": [
    {
     "data": {
      "image/png": "[encoded data removed]",
      "text/plain": [
       "<Figure size 720x1080 with 1 Axes>"
      ]
     },
     "metadata": {
      "needs_background": "light"
     },
     "output_type": "display_data"
    }
   ],
   "source": [
    "plt.figure(figsize=(10,15))\n",
    "sns.barplot(y='State',x='Murder',data=crime_data, order=crime_data.sort_values('Murder').State, palette=\"Blues_d\")\n",
    "plt.show()"
   ]
  },
  {
   "cell_type": "code",
   "execution_count": 20,
   "id": "6690a10a",
   "metadata": {
    "ExecuteTime": {
     "end_time": "2022-01-26T18:49:26.387932Z",
     "start_time": "2022-01-26T18:49:25.722093Z"
    }
   },
   "outputs": [
    {
     "data": {
      "image/png": "[encoded data removed]",
      "text/plain": [
       "<Figure size 720x1080 with 1 Axes>"
      ]
     },
     "metadata": {
      "needs_background": "light"
     },
     "output_type": "display_data"
    }
   ],
   "source": [
    "plt.figure(figsize=(10,15))\n",
    "sns.barplot(y='State',x='Assault',data=crime_data, order=crime_data.sort_values('Assault').State, palette=\"Blues_d\")\n",
    "plt.show()"
   ]
  },
  {
   "cell_type": "code",
   "execution_count": 21,
   "id": "7b9a6817",
   "metadata": {
    "ExecuteTime": {
     "end_time": "2022-01-26T18:49:26.898989Z",
     "start_time": "2022-01-26T18:49:26.388930Z"
    }
   },
   "outputs": [
    {
     "data": {
      "image/png": "[encoded data removed]",
      "text/plain": [
       "<Figure size 720x1080 with 1 Axes>"
      ]
     },
     "metadata": {
      "needs_background": "light"
     },
     "output_type": "display_data"
    }
   ],
   "source": [
    "plt.figure(figsize=(10,15))\n",
    "sns.barplot(y='State',x='Rape',data=crime_data, order=crime_data.sort_values('Rape').State, palette=\"Blues_d\")\n",
    "plt.show()"
   ]
  },
  {
   "cell_type": "code",
   "execution_count": 22,
   "id": "48f72c34",
   "metadata": {
    "ExecuteTime": {
     "end_time": "2022-01-26T18:49:27.910202Z",
     "start_time": "2022-01-26T18:49:26.899950Z"
    }
   },
   "outputs": [
    {
     "data": {
      "text/plain": [
       "<AxesSubplot:xlabel='Murder', ylabel='Assault'>"
      ]
     },
     "execution_count": 22,
     "metadata": {},
     "output_type": "execute_result"
    },
    {
     "data": {
      "image/png": "[encoded data removed]",
      "text/plain": [
       "<Figure size 432x288 with 1 Axes>"
      ]
     },
     "metadata": {
      "needs_background": "light"
     },
     "output_type": "display_data"
    }
   ],
   "source": [
    "sns.regplot(x='Murder',y='Assault',data=crime_data)"
   ]
  },
  {
   "cell_type": "markdown",
   "id": "69c150d8",
   "metadata": {},
   "source": [
    "Assault and Murder variables are correlated and are linear to each other so we will just work with one feature."
   ]
  },
  {
   "cell_type": "code",
   "execution_count": 23,
   "id": "6e87334d",
   "metadata": {
    "ExecuteTime": {
     "end_time": "2022-01-26T18:49:27.926157Z",
     "start_time": "2022-01-26T18:49:27.911197Z"
    }
   },
   "outputs": [
    {
     "data": {
      "text/html": [
       "<div>\n",
       "<style scoped>\n",
       "    .dataframe tbody tr th:only-of-type {\n",
       "        vertical-align: middle;\n",
       "    }\n",
       "\n",
       "    .dataframe tbody tr th {\n",
       "        vertical-align: top;\n",
       "    }\n",
       "\n",
       "    .dataframe thead th {\n",
       "        text-align: right;\n",
       "    }\n",
       "</style>\n",
       "<table border=\"1\" class=\"dataframe\">\n",
       "  <thead>\n",
       "    <tr style=\"text-align: right;\">\n",
       "      <th></th>\n",
       "      <th>State</th>\n",
       "      <th>Murder</th>\n",
       "      <th>Assault</th>\n",
       "      <th>UrbanPop</th>\n",
       "      <th>Rape</th>\n",
       "    </tr>\n",
       "  </thead>\n",
       "  <tbody>\n",
       "    <tr>\n",
       "      <th>0</th>\n",
       "      <td>Alabama</td>\n",
       "      <td>13.2</td>\n",
       "      <td>236</td>\n",
       "      <td>58</td>\n",
       "      <td>21.2</td>\n",
       "    </tr>\n",
       "    <tr>\n",
       "      <th>1</th>\n",
       "      <td>Alaska</td>\n",
       "      <td>10.0</td>\n",
       "      <td>263</td>\n",
       "      <td>48</td>\n",
       "      <td>44.5</td>\n",
       "    </tr>\n",
       "    <tr>\n",
       "      <th>2</th>\n",
       "      <td>Arizona</td>\n",
       "      <td>8.1</td>\n",
       "      <td>294</td>\n",
       "      <td>80</td>\n",
       "      <td>31.0</td>\n",
       "    </tr>\n",
       "    <tr>\n",
       "      <th>3</th>\n",
       "      <td>Arkansas</td>\n",
       "      <td>8.8</td>\n",
       "      <td>190</td>\n",
       "      <td>50</td>\n",
       "      <td>19.5</td>\n",
       "    </tr>\n",
       "    <tr>\n",
       "      <th>4</th>\n",
       "      <td>California</td>\n",
       "      <td>9.0</td>\n",
       "      <td>276</td>\n",
       "      <td>91</td>\n",
       "      <td>40.6</td>\n",
       "    </tr>\n",
       "  </tbody>\n",
       "</table>\n",
       "</div>"
      ],
      "text/plain": [
       "        State  Murder  Assault  UrbanPop  Rape\n",
       "0     Alabama    13.2      236        58  21.2\n",
       "1      Alaska    10.0      263        48  44.5\n",
       "2     Arizona     8.1      294        80  31.0\n",
       "3    Arkansas     8.8      190        50  19.5\n",
       "4  California     9.0      276        91  40.6"
      ]
     },
     "execution_count": 23,
     "metadata": {},
     "output_type": "execute_result"
    }
   ],
   "source": [
    "crime_data1= crime_data.copy()\n",
    "crime_data1.head(5)"
   ]
  },
  {
   "cell_type": "code",
   "execution_count": 24,
   "id": "5fc874e3",
   "metadata": {
    "ExecuteTime": {
     "end_time": "2022-01-26T18:49:28.207454Z",
     "start_time": "2022-01-26T18:49:27.927154Z"
    }
   },
   "outputs": [
    {
     "data": {
      "text/html": [
       "<div>\n",
       "<style scoped>\n",
       "    .dataframe tbody tr th:only-of-type {\n",
       "        vertical-align: middle;\n",
       "    }\n",
       "\n",
       "    .dataframe tbody tr th {\n",
       "        vertical-align: top;\n",
       "    }\n",
       "\n",
       "    .dataframe thead th {\n",
       "        text-align: right;\n",
       "    }\n",
       "</style>\n",
       "<table border=\"1\" class=\"dataframe\">\n",
       "  <thead>\n",
       "    <tr style=\"text-align: right;\">\n",
       "      <th></th>\n",
       "      <th>Murder</th>\n",
       "      <th>Assault</th>\n",
       "      <th>UrbanPop</th>\n",
       "      <th>Rape</th>\n",
       "    </tr>\n",
       "  </thead>\n",
       "  <tbody>\n",
       "    <tr>\n",
       "      <th>0</th>\n",
       "      <td>13.2</td>\n",
       "      <td>236</td>\n",
       "      <td>58</td>\n",
       "      <td>21.2</td>\n",
       "    </tr>\n",
       "    <tr>\n",
       "      <th>1</th>\n",
       "      <td>10.0</td>\n",
       "      <td>263</td>\n",
       "      <td>48</td>\n",
       "      <td>44.5</td>\n",
       "    </tr>\n",
       "    <tr>\n",
       "      <th>2</th>\n",
       "      <td>8.1</td>\n",
       "      <td>294</td>\n",
       "      <td>80</td>\n",
       "      <td>31.0</td>\n",
       "    </tr>\n",
       "    <tr>\n",
       "      <th>3</th>\n",
       "      <td>8.8</td>\n",
       "      <td>190</td>\n",
       "      <td>50</td>\n",
       "      <td>19.5</td>\n",
       "    </tr>\n",
       "    <tr>\n",
       "      <th>4</th>\n",
       "      <td>9.0</td>\n",
       "      <td>276</td>\n",
       "      <td>91</td>\n",
       "      <td>40.6</td>\n",
       "    </tr>\n",
       "  </tbody>\n",
       "</table>\n",
       "</div>"
      ],
      "text/plain": [
       "   Murder  Assault  UrbanPop  Rape\n",
       "0    13.2      236        58  21.2\n",
       "1    10.0      263        48  44.5\n",
       "2     8.1      294        80  31.0\n",
       "3     8.8      190        50  19.5\n",
       "4     9.0      276        91  40.6"
      ]
     },
     "execution_count": 24,
     "metadata": {},
     "output_type": "execute_result"
    }
   ],
   "source": [
    "crime_data1.drop(['State'],inplace=True,axis=1)\n",
    "crime_data1.head(5)"
   ]
  },
  {
   "cell_type": "markdown",
   "id": "5133cd28",
   "metadata": {},
   "source": [
    "## Preprocessing the data"
   ]
  },
  {
   "cell_type": "code",
   "execution_count": 25,
   "id": "8aca98e0",
   "metadata": {
    "ExecuteTime": {
     "end_time": "2022-01-26T18:49:28.347279Z",
     "start_time": "2022-01-26T18:49:28.208451Z"
    }
   },
   "outputs": [
    {
     "data": {
      "text/plain": [
       "array([[ 1.25517927,  0.79078716, -0.52619514, -0.00345116],\n",
       "       [ 0.51301858,  1.11805959, -1.22406668,  2.50942392],\n",
       "       [ 0.07236067,  1.49381682,  1.00912225,  1.05346626],\n",
       "       [ 0.23470832,  0.23321191, -1.08449238, -0.18679398],\n",
       "       [ 0.28109336,  1.2756352 ,  1.77678094,  2.08881393],\n",
       "       [ 0.02597562,  0.40290872,  0.86954794,  1.88390137],\n",
       "       [-1.04088037, -0.73648418,  0.79976079, -1.09272319],\n",
       "       [-0.43787481,  0.81502956,  0.45082502, -0.58583422],\n",
       "       [ 1.76541475,  1.99078607,  1.00912225,  1.1505301 ],\n",
       "       [ 2.22926518,  0.48775713, -0.38662083,  0.49265293],\n",
       "       [-0.57702994, -1.51224105,  1.21848371, -0.11129987],\n",
       "       [-1.20322802, -0.61527217, -0.80534376, -0.75839217],\n",
       "       [ 0.60578867,  0.94836277,  1.21848371,  0.29852525],\n",
       "       [-0.13637203, -0.70012057, -0.03768506, -0.0250209 ],\n",
       "       [-1.29599811, -1.39102904, -0.5959823 , -1.07115345],\n",
       "       [-0.41468229, -0.67587817,  0.03210209, -0.34856705],\n",
       "       [ 0.44344101, -0.74860538, -0.94491807, -0.53190987],\n",
       "       [ 1.76541475,  0.94836277,  0.03210209,  0.10439756],\n",
       "       [-1.31919063, -1.06375661, -1.01470522, -1.44862395],\n",
       "       [ 0.81452136,  1.56654403,  0.10188925,  0.70835037],\n",
       "       [-0.78576263, -0.26375734,  1.35805802, -0.53190987],\n",
       "       [ 1.00006153,  1.02108998,  0.59039932,  1.49564599],\n",
       "       [-1.1800355 , -1.19708982,  0.03210209, -0.68289807],\n",
       "       [ 1.9277624 ,  1.06957478, -1.5032153 , -0.44563089],\n",
       "       [ 0.28109336,  0.0877575 ,  0.31125071,  0.75148985],\n",
       "       [-0.41468229, -0.74860538, -0.87513091, -0.521125  ],\n",
       "       [-0.80895515, -0.83345379, -0.24704653, -0.51034012],\n",
       "       [ 1.02325405,  0.98472638,  1.0789094 ,  2.671197  ],\n",
       "       [-1.31919063, -1.37890783, -0.66576945, -1.26528114],\n",
       "       [-0.08998698, -0.14254532,  1.63720664, -0.26228808],\n",
       "       [ 0.83771388,  1.38472601,  0.31125071,  1.17209984],\n",
       "       [ 0.76813632,  1.00896878,  1.42784517,  0.52500755],\n",
       "       [ 1.20879423,  2.01502847, -1.43342815, -0.55347961],\n",
       "       [-1.62069341, -1.52436225, -1.5032153 , -1.50254831],\n",
       "       [-0.11317951, -0.61527217,  0.66018648,  0.01811858],\n",
       "       [-0.27552716, -0.23951493,  0.1716764 , -0.13286962],\n",
       "       [-0.66980002, -0.14254532,  0.10188925,  0.87012344],\n",
       "       [-0.34510472, -0.78496898,  0.45082502, -0.68289807],\n",
       "       [-1.01768785,  0.03927269,  1.49763233, -1.39469959],\n",
       "       [ 1.53348953,  1.3119988 , -1.22406668,  0.13675217],\n",
       "       [-0.92491776, -1.027393  , -1.43342815, -0.90938037],\n",
       "       [ 1.25517927,  0.20896951, -0.45640799,  0.61128652],\n",
       "       [ 1.13921666,  0.36654512,  1.00912225,  0.46029832],\n",
       "       [-1.06407289, -0.61527217,  1.00912225,  0.17989166],\n",
       "       [-1.29599811, -1.48799864, -2.34066115, -1.08193832],\n",
       "       [ 0.16513075, -0.17890893, -0.17725937, -0.05737552],\n",
       "       [-0.87853272, -0.31224214,  0.52061217,  0.53579242],\n",
       "       [-0.48425985, -1.08799901, -1.85215107, -1.28685088],\n",
       "       [-1.20322802, -1.42739264,  0.03210209, -1.1250778 ],\n",
       "       [-0.22914211, -0.11830292, -0.38662083, -0.60740397]])"
      ]
     },
     "execution_count": 25,
     "metadata": {},
     "output_type": "execute_result"
    }
   ],
   "source": [
    "## Scaling the data so that all the features become comparable\n",
    "scale= StandardScaler()\n",
    "scale_dataset= scale.fit_transform(crime_data1)\n",
    "scale_dataset"
   ]
  },
  {
   "cell_type": "code",
   "execution_count": 26,
   "id": "29fcb9ab",
   "metadata": {
    "ExecuteTime": {
     "end_time": "2022-01-26T18:49:28.500091Z",
     "start_time": "2022-01-26T18:49:28.348164Z"
    }
   },
   "outputs": [],
   "source": [
    "# Normalizing the data so that the data approximately \n",
    "# follows a Gaussian distribution\n",
    "normalize_dataset = normalize(scale_dataset)"
   ]
  },
  {
   "cell_type": "code",
   "execution_count": 27,
   "id": "deb5f8ce",
   "metadata": {
    "ExecuteTime": {
     "end_time": "2022-01-26T18:49:28.671274Z",
     "start_time": "2022-01-26T18:49:28.502089Z"
    }
   },
   "outputs": [
    {
     "data": {
      "text/html": [
       "<div>\n",
       "<style scoped>\n",
       "    .dataframe tbody tr th:only-of-type {\n",
       "        vertical-align: middle;\n",
       "    }\n",
       "\n",
       "    .dataframe tbody tr th {\n",
       "        vertical-align: top;\n",
       "    }\n",
       "\n",
       "    .dataframe thead th {\n",
       "        text-align: right;\n",
       "    }\n",
       "</style>\n",
       "<table border=\"1\" class=\"dataframe\">\n",
       "  <thead>\n",
       "    <tr style=\"text-align: right;\">\n",
       "      <th></th>\n",
       "      <th>0</th>\n",
       "      <th>1</th>\n",
       "      <th>2</th>\n",
       "      <th>3</th>\n",
       "    </tr>\n",
       "  </thead>\n",
       "  <tbody>\n",
       "    <tr>\n",
       "      <th>0</th>\n",
       "      <td>0.797407</td>\n",
       "      <td>0.502382</td>\n",
       "      <td>-0.334288</td>\n",
       "      <td>-0.002192</td>\n",
       "    </tr>\n",
       "    <tr>\n",
       "      <th>1</th>\n",
       "      <td>0.168146</td>\n",
       "      <td>0.366453</td>\n",
       "      <td>-0.401198</td>\n",
       "      <td>0.822484</td>\n",
       "    </tr>\n",
       "    <tr>\n",
       "      <th>2</th>\n",
       "      <td>0.034635</td>\n",
       "      <td>0.715011</td>\n",
       "      <td>0.483014</td>\n",
       "      <td>0.504239</td>\n",
       "    </tr>\n",
       "    <tr>\n",
       "      <th>3</th>\n",
       "      <td>0.204249</td>\n",
       "      <td>0.202947</td>\n",
       "      <td>-0.943754</td>\n",
       "      <td>-0.162553</td>\n",
       "    </tr>\n",
       "    <tr>\n",
       "      <th>4</th>\n",
       "      <td>0.092541</td>\n",
       "      <td>0.419963</td>\n",
       "      <td>0.584950</td>\n",
       "      <td>0.687677</td>\n",
       "    </tr>\n",
       "  </tbody>\n",
       "</table>\n",
       "</div>"
      ],
      "text/plain": [
       "          0         1         2         3\n",
       "0  0.797407  0.502382 -0.334288 -0.002192\n",
       "1  0.168146  0.366453 -0.401198  0.822484\n",
       "2  0.034635  0.715011  0.483014  0.504239\n",
       "3  0.204249  0.202947 -0.943754 -0.162553\n",
       "4  0.092541  0.419963  0.584950  0.687677"
      ]
     },
     "execution_count": 27,
     "metadata": {},
     "output_type": "execute_result"
    }
   ],
   "source": [
    "# Converting the numpy array into a pandas DataFrame\n",
    "normalize_dataset = pd.DataFrame(normalize_dataset)\n",
    "normalize_dataset.head()"
   ]
  },
  {
   "cell_type": "markdown",
   "id": "26417596",
   "metadata": {},
   "source": [
    "## Hierarchical Clustering"
   ]
  },
  {
   "cell_type": "code",
   "execution_count": 28,
   "id": "8d40360f",
   "metadata": {
    "ExecuteTime": {
     "end_time": "2022-01-26T18:49:29.372321Z",
     "start_time": "2022-01-26T18:49:28.674266Z"
    }
   },
   "outputs": [
    {
     "data": {
      "text/plain": [
       "<matplotlib.lines.Line2D at 0x1a9a293fa30>"
      ]
     },
     "execution_count": 28,
     "metadata": {},
     "output_type": "execute_result"
    },
    {
     "data": {
      "image/png": "[encoded data removed]",
      "text/plain": [
       "<Figure size 720x576 with 1 Axes>"
      ]
     },
     "metadata": {
      "needs_background": "light"
     },
     "output_type": "display_data"
    }
   ],
   "source": [
    "#Combine PCA and Hierarchical Clustering. Visualizing the working of the Dendograms \n",
    "plt.figure(figsize=(10,8))\n",
    "plt.title('Dendrogram')\n",
    "dendrogram= sch.dendrogram(sch.linkage(normalize_dataset,method='ward',metric='euclidean'))\n",
    "plt.axhline(y=3.5, color='r', linestyle='--')\n",
    "plt.axhline(y=3, color='r', linestyle='--')"
   ]
  },
  {
   "cell_type": "markdown",
   "id": "2ff89da1",
   "metadata": {},
   "source": [
    "## Building and Visualizing the different clustering models for different values of k"
   ]
  },
  {
   "cell_type": "code",
   "execution_count": 29,
   "id": "c7f60e3e",
   "metadata": {
    "ExecuteTime": {
     "end_time": "2022-01-26T18:49:29.402404Z",
     "start_time": "2022-01-26T18:49:29.373483Z"
    }
   },
   "outputs": [
    {
     "data": {
      "text/html": [
       "<div>\n",
       "<style scoped>\n",
       "    .dataframe tbody tr th:only-of-type {\n",
       "        vertical-align: middle;\n",
       "    }\n",
       "\n",
       "    .dataframe tbody tr th {\n",
       "        vertical-align: top;\n",
       "    }\n",
       "\n",
       "    .dataframe thead th {\n",
       "        text-align: right;\n",
       "    }\n",
       "</style>\n",
       "<table border=\"1\" class=\"dataframe\">\n",
       "  <thead>\n",
       "    <tr style=\"text-align: right;\">\n",
       "      <th></th>\n",
       "      <th>Murder</th>\n",
       "      <th>Assault</th>\n",
       "      <th>UrbanPop</th>\n",
       "      <th>Rape</th>\n",
       "      <th>clust</th>\n",
       "    </tr>\n",
       "    <tr>\n",
       "      <th>clust</th>\n",
       "      <th></th>\n",
       "      <th></th>\n",
       "      <th></th>\n",
       "      <th></th>\n",
       "      <th></th>\n",
       "    </tr>\n",
       "  </thead>\n",
       "  <tbody>\n",
       "    <tr>\n",
       "      <th>0</th>\n",
       "      <td>9.481250</td>\n",
       "      <td>237.687500</td>\n",
       "      <td>79.562500</td>\n",
       "      <td>27.887500</td>\n",
       "      <td>0.0</td>\n",
       "    </tr>\n",
       "    <tr>\n",
       "      <th>1</th>\n",
       "      <td>4.533333</td>\n",
       "      <td>101.666667</td>\n",
       "      <td>68.866667</td>\n",
       "      <td>17.866667</td>\n",
       "      <td>1.0</td>\n",
       "    </tr>\n",
       "    <tr>\n",
       "      <th>2</th>\n",
       "      <td>13.500000</td>\n",
       "      <td>245.777778</td>\n",
       "      <td>53.111111</td>\n",
       "      <td>23.977778</td>\n",
       "      <td>2.0</td>\n",
       "    </tr>\n",
       "    <tr>\n",
       "      <th>3</th>\n",
       "      <td>4.820000</td>\n",
       "      <td>99.800000</td>\n",
       "      <td>49.300000</td>\n",
       "      <td>13.160000</td>\n",
       "      <td>3.0</td>\n",
       "    </tr>\n",
       "  </tbody>\n",
       "</table>\n",
       "</div>"
      ],
      "text/plain": [
       "          Murder     Assault   UrbanPop       Rape  clust\n",
       "clust                                                    \n",
       "0       9.481250  237.687500  79.562500  27.887500    0.0\n",
       "1       4.533333  101.666667  68.866667  17.866667    1.0\n",
       "2      13.500000  245.777778  53.111111  23.977778    2.0\n",
       "3       4.820000   99.800000  49.300000  13.160000    3.0"
      ]
     },
     "execution_count": 29,
     "metadata": {},
     "output_type": "execute_result"
    }
   ],
   "source": [
    "#when k=4\n",
    "#We have four cluster now we will use Agglomerative Clustering\n",
    "# Ward method is commanly used since it is simpler to visualize understanding.\n",
    "h_complete = AgglomerativeClustering(n_clusters=4, linkage='complete',affinity = \"euclidean\").fit(normalize_dataset) \n",
    "\n",
    "cluster_labels=pd.Series(h_complete.labels_)\n",
    "cluster_labels\n",
    "crime_data['clust']=cluster_labels # creating a  new column and assigning it to new column \n",
    "crime_data.iloc[:,1:].groupby(crime_data.clust).mean()"
   ]
  },
  {
   "cell_type": "code",
   "execution_count": 30,
   "id": "481ad7fc",
   "metadata": {
    "ExecuteTime": {
     "end_time": "2022-01-26T18:49:29.510117Z",
     "start_time": "2022-01-26T18:49:29.403401Z"
    }
   },
   "outputs": [
    {
     "name": "stdout",
     "output_type": "stream",
     "text": [
      "            State  Murder  Assault  UrbanPop  Rape  clust\n",
      "2         Arizona     8.1      294        80  31.0      0\n",
      "4      California     9.0      276        91  40.6      0\n",
      "5        Colorado     7.9      204        78  38.7      0\n",
      "7        Delaware     5.9      238        72  15.8      0\n",
      "8         Florida    15.4      335        80  31.9      0\n",
      "12       Illinois    10.4      249        83  24.0      0\n",
      "19       Maryland    11.3      300        67  27.8      0\n",
      "20  Massachusetts     4.4      149        85  16.3      0\n",
      "21       Michigan    12.1      255        74  35.1      0\n",
      "24       Missouri     9.0      178        70  28.2      0\n",
      "27         Nevada    12.2      252        81  46.0      0\n",
      "29     New Jersey     7.4      159        89  18.8      0\n",
      "30     New Mexico    11.4      285        70  32.1      0\n",
      "31       New York    11.1      254        86  26.1      0\n",
      "38   Rhode Island     3.4      174        87   8.3      0\n",
      "42          Texas    12.7      201        80  25.5      0\n"
     ]
    }
   ],
   "source": [
    "df_0= crime_data.query('clust == 0')\n",
    "print(pd.DataFrame(df_0))"
   ]
  },
  {
   "cell_type": "code",
   "execution_count": 31,
   "id": "c5b97f3d",
   "metadata": {
    "ExecuteTime": {
     "end_time": "2022-01-26T18:49:29.866169Z",
     "start_time": "2022-01-26T18:49:29.511114Z"
    }
   },
   "outputs": [
    {
     "name": "stderr",
     "output_type": "stream",
     "text": [
      "C:\\Users\\rahul\\anaconda3\\lib\\site-packages\\seaborn\\_decorators.py:36: FutureWarning: Pass the following variables as keyword args: x, y. From version 0.12, the only valid positional argument will be `data`, and passing other arguments without an explicit keyword will result in an error or misinterpretation.\n",
      "  warnings.warn(\n"
     ]
    },
    {
     "data": {
      "image/png": "[encoded data removed]",
      "text/plain": [
       "<Figure size 720x576 with 1 Axes>"
      ]
     },
     "metadata": {
      "needs_background": "light"
     },
     "output_type": "display_data"
    }
   ],
   "source": [
    "# Visualizing the clustering\n",
    "colors=['green','red','blue','purple']\n",
    "plt.figure(figsize =(10, 8))\n",
    "sns.scatterplot(crime_data['Murder'], crime_data['Assault'], \n",
    "           hue = crime_data['clust'],cmap=matplotlib.colors.ListedColormap(colors),s=15, size=crime_data.clust, sizes=(20, 200), legend=\"full\")\n",
    "plt.legend()\n",
    "plt.show()"
   ]
  },
  {
   "cell_type": "code",
   "execution_count": 32,
   "id": "5cfedefd",
   "metadata": {
    "ExecuteTime": {
     "end_time": "2022-01-26T18:49:29.898137Z",
     "start_time": "2022-01-26T18:49:29.870159Z"
    }
   },
   "outputs": [
    {
     "data": {
      "text/html": [
       "<div>\n",
       "<style scoped>\n",
       "    .dataframe tbody tr th:only-of-type {\n",
       "        vertical-align: middle;\n",
       "    }\n",
       "\n",
       "    .dataframe tbody tr th {\n",
       "        vertical-align: top;\n",
       "    }\n",
       "\n",
       "    .dataframe thead th {\n",
       "        text-align: right;\n",
       "    }\n",
       "</style>\n",
       "<table border=\"1\" class=\"dataframe\">\n",
       "  <thead>\n",
       "    <tr style=\"text-align: right;\">\n",
       "      <th></th>\n",
       "      <th>Murder</th>\n",
       "      <th>Assault</th>\n",
       "      <th>UrbanPop</th>\n",
       "      <th>Rape</th>\n",
       "      <th>clust</th>\n",
       "      <th>clust2</th>\n",
       "    </tr>\n",
       "    <tr>\n",
       "      <th>clust2</th>\n",
       "      <th></th>\n",
       "      <th></th>\n",
       "      <th></th>\n",
       "      <th></th>\n",
       "      <th></th>\n",
       "      <th></th>\n",
       "    </tr>\n",
       "  </thead>\n",
       "  <tbody>\n",
       "    <tr>\n",
       "      <th>0</th>\n",
       "      <td>4.64800</td>\n",
       "      <td>100.920000</td>\n",
       "      <td>61.040000</td>\n",
       "      <td>15.984000</td>\n",
       "      <td>1.8</td>\n",
       "      <td>0.0</td>\n",
       "    </tr>\n",
       "    <tr>\n",
       "      <th>1</th>\n",
       "      <td>9.48125</td>\n",
       "      <td>237.687500</td>\n",
       "      <td>79.562500</td>\n",
       "      <td>27.887500</td>\n",
       "      <td>0.0</td>\n",
       "      <td>1.0</td>\n",
       "    </tr>\n",
       "    <tr>\n",
       "      <th>2</th>\n",
       "      <td>13.50000</td>\n",
       "      <td>245.777778</td>\n",
       "      <td>53.111111</td>\n",
       "      <td>23.977778</td>\n",
       "      <td>2.0</td>\n",
       "      <td>2.0</td>\n",
       "    </tr>\n",
       "  </tbody>\n",
       "</table>\n",
       "</div>"
      ],
      "text/plain": [
       "          Murder     Assault   UrbanPop       Rape  clust  clust2\n",
       "clust2                                                           \n",
       "0        4.64800  100.920000  61.040000  15.984000    1.8     0.0\n",
       "1        9.48125  237.687500  79.562500  27.887500    0.0     1.0\n",
       "2       13.50000  245.777778  53.111111  23.977778    2.0     2.0"
      ]
     },
     "execution_count": 32,
     "metadata": {},
     "output_type": "execute_result"
    }
   ],
   "source": [
    "#when k=3\n",
    "#We have three cluster now we will use Agglomerative Clustering\n",
    "# Ward method is commanly used since it is simpler to visualize understanding.\n",
    "h_complete2 = AgglomerativeClustering(n_clusters=3, linkage='complete',affinity = \"euclidean\").fit(normalize_dataset) \n",
    "\n",
    "cluster_labels2=pd.Series(h_complete2.labels_)\n",
    "cluster_labels2\n",
    "crime_data['clust2']=cluster_labels2 # creating a  new column and assigning it to new column \n",
    "crime_data.iloc[:,1:].groupby(crime_data.clust2).mean()"
   ]
  },
  {
   "cell_type": "code",
   "execution_count": 33,
   "id": "30af25f8",
   "metadata": {
    "ExecuteTime": {
     "end_time": "2022-01-26T18:49:30.221909Z",
     "start_time": "2022-01-26T18:49:29.899077Z"
    }
   },
   "outputs": [
    {
     "name": "stderr",
     "output_type": "stream",
     "text": [
      "C:\\Users\\rahul\\anaconda3\\lib\\site-packages\\seaborn\\_decorators.py:36: FutureWarning: Pass the following variables as keyword args: x, y. From version 0.12, the only valid positional argument will be `data`, and passing other arguments without an explicit keyword will result in an error or misinterpretation.\n",
      "  warnings.warn(\n"
     ]
    },
    {
     "data": {
      "image/png": "[encoded data removed]",
      "text/plain": [
       "<Figure size 720x576 with 1 Axes>"
      ]
     },
     "metadata": {
      "needs_background": "light"
     },
     "output_type": "display_data"
    }
   ],
   "source": [
    "# Visualizing the clustering\n",
    "colors=['green','red','blue','purple']\n",
    "plt.figure(figsize =(10, 8))\n",
    "sns.scatterplot(crime_data['Murder'], crime_data['Assault'], \n",
    "           hue = crime_data['clust2'],cmap=matplotlib.colors.ListedColormap(colors),s=15, size=crime_data.clust2, sizes=(20, 200), legend=\"full\")\n",
    "plt.legend()\n",
    "plt.show()"
   ]
  },
  {
   "cell_type": "code",
   "execution_count": 34,
   "id": "bf3017b3",
   "metadata": {
    "ExecuteTime": {
     "end_time": "2022-01-26T18:49:30.425996Z",
     "start_time": "2022-01-26T18:49:30.222928Z"
    }
   },
   "outputs": [
    {
     "data": {
      "image/png": "[encoded data removed]",
      "text/plain": [
       "<Figure size 432x288 with 1 Axes>"
      ]
     },
     "metadata": {
      "needs_background": "light"
     },
     "output_type": "display_data"
    }
   ],
   "source": [
    "k = [3, 4]\n",
    "cluster3 = AgglomerativeClustering(n_clusters = 3,linkage='ward',affinity='euclidean')\n",
    "cluster4 = AgglomerativeClustering(n_clusters = 4,linkage='ward',affinity='euclidean')\n",
    "  \n",
    "# Appending the silhouette scores of the different models to the list\n",
    "silhouette_scores = []\n",
    "silhouette_scores.append(\n",
    "        silhouette_score(normalize_dataset, cluster3.fit_predict(normalize_dataset)))\n",
    "silhouette_scores.append(\n",
    "        silhouette_score(normalize_dataset, cluster4.fit_predict(normalize_dataset)))\n",
    "\n",
    "# Plotting a bar graph to compare the results\n",
    "plt.bar(k, silhouette_scores)\n",
    "plt.xlabel('Number of clusters', fontsize = 20)\n",
    "plt.ylabel('S(i)', fontsize = 20)\n",
    "plt.show()"
   ]
  },
  {
   "cell_type": "markdown",
   "id": "c1c976db",
   "metadata": {},
   "source": [
    "With the help of the silhouette scores, it is concluded that the optimal number of clusters for the given data and clustering technique is 3 or 4. as there is no such big difference."
   ]
  },
  {
   "cell_type": "markdown",
   "id": "c0947ecb",
   "metadata": {},
   "source": [
    "## K-means clustering"
   ]
  },
  {
   "cell_type": "code",
   "execution_count": 35,
   "id": "92275a94",
   "metadata": {
    "ExecuteTime": {
     "end_time": "2022-01-26T18:49:31.869022Z",
     "start_time": "2022-01-26T18:49:30.426932Z"
    }
   },
   "outputs": [
    {
     "name": "stderr",
     "output_type": "stream",
     "text": [
      "C:\\Users\\rahul\\anaconda3\\lib\\site-packages\\sklearn\\cluster\\_kmeans.py:881: UserWarning: KMeans is known to have a memory leak on Windows with MKL, when there are less chunks than available threads. You can avoid it by setting the environment variable OMP_NUM_THREADS=1.\n",
      "  warnings.warn(\n"
     ]
    }
   ],
   "source": [
    "#WE fit K means using the transformed data\n",
    "wcss=[]\n",
    "for i in range(1,21):\n",
    "    kmeans_data=KMeans(n_clusters=i,init='k-means++',max_iter=300, n_init=10, random_state=0)\n",
    "    kmeans_data.fit(normalize_dataset)\n",
    "    wcss.append(kmeans_data.inertia_)"
   ]
  },
  {
   "cell_type": "code",
   "execution_count": 36,
   "id": "e7a9c161",
   "metadata": {
    "ExecuteTime": {
     "end_time": "2022-01-26T18:49:32.044024Z",
     "start_time": "2022-01-26T18:49:31.870033Z"
    }
   },
   "outputs": [
    {
     "data": {
      "image/png": "[encoded data removed]",
      "text/plain": [
       "<Figure size 720x576 with 1 Axes>"
      ]
     },
     "metadata": {
      "needs_background": "light"
     },
     "output_type": "display_data"
    }
   ],
   "source": [
    "#The next step involves plotting the WCSS against the number of components on a graph.\n",
    "plt.figure(figsize=(10,8))\n",
    "plt.plot(range(1,21),wcss,marker='o',linestyle='--')\n",
    "plt.xlabel('Number of cluster')\n",
    "plt.ylabel('WCSS')\n",
    "plt.title('K-mean Clustering')\n",
    "plt.show()"
   ]
  },
  {
   "cell_type": "markdown",
   "id": "d3c18907",
   "metadata": {},
   "source": [
    "And from this graph, we determine the number of clusters we’d like to keep. To that effect, we use the Elbow-method. The approach consists of looking for a kink or elbow in the WCSS graph. Usually, the part of the graph before the elbow would be steeply declining, while the part after it – much smoother. In this instance, the kink comes at the 3 clusters mark. So, we’ll be keeping a three-cluster solution."
   ]
  },
  {
   "cell_type": "code",
   "execution_count": 37,
   "id": "4c61c916",
   "metadata": {
    "ExecuteTime": {
     "end_time": "2022-01-26T18:49:32.215869Z",
     "start_time": "2022-01-26T18:49:32.045914Z"
    }
   },
   "outputs": [],
   "source": [
    "#All left to do is to implement it.\n",
    "#We have chosen three clusters, so we run K-means with number of clusters equals four.\n",
    "#Same initilizer and random state as before.\n",
    "kmeans_data=KMeans(n_clusters=3,init='k-means++',max_iter=300, n_init=10, random_state=0)"
   ]
  },
  {
   "cell_type": "code",
   "execution_count": 38,
   "id": "297867dc",
   "metadata": {
    "ExecuteTime": {
     "end_time": "2022-01-26T18:49:32.357901Z",
     "start_time": "2022-01-26T18:49:32.218753Z"
    }
   },
   "outputs": [
    {
     "data": {
      "text/plain": [
       "KMeans(n_clusters=3, random_state=0)"
      ]
     },
     "execution_count": 38,
     "metadata": {},
     "output_type": "execute_result"
    }
   ],
   "source": [
    "#We fit our data with K-means model\n",
    "kmeans_data.fit(normalize_dataset)"
   ]
  },
  {
   "cell_type": "markdown",
   "id": "195f9f37",
   "metadata": {},
   "source": [
    "## Analyze the Results of K-Means Clustering"
   ]
  },
  {
   "cell_type": "code",
   "execution_count": 39,
   "id": "76b1e3cd",
   "metadata": {
    "ExecuteTime": {
     "end_time": "2022-01-26T18:49:32.419738Z",
     "start_time": "2022-01-26T18:49:32.358900Z"
    }
   },
   "outputs": [
    {
     "data": {
      "text/html": [
       "<div>\n",
       "<style scoped>\n",
       "    .dataframe tbody tr th:only-of-type {\n",
       "        vertical-align: middle;\n",
       "    }\n",
       "\n",
       "    .dataframe tbody tr th {\n",
       "        vertical-align: top;\n",
       "    }\n",
       "\n",
       "    .dataframe thead th {\n",
       "        text-align: right;\n",
       "    }\n",
       "</style>\n",
       "<table border=\"1\" class=\"dataframe\">\n",
       "  <thead>\n",
       "    <tr style=\"text-align: right;\">\n",
       "      <th></th>\n",
       "      <th>State</th>\n",
       "      <th>Murder</th>\n",
       "      <th>Assault</th>\n",
       "      <th>UrbanPop</th>\n",
       "      <th>Rape</th>\n",
       "      <th>clust</th>\n",
       "      <th>clust2</th>\n",
       "      <th>K_means_segment</th>\n",
       "    </tr>\n",
       "  </thead>\n",
       "  <tbody>\n",
       "    <tr>\n",
       "      <th>0</th>\n",
       "      <td>Alabama</td>\n",
       "      <td>13.2</td>\n",
       "      <td>236</td>\n",
       "      <td>58</td>\n",
       "      <td>21.2</td>\n",
       "      <td>2</td>\n",
       "      <td>2</td>\n",
       "      <td>1</td>\n",
       "    </tr>\n",
       "    <tr>\n",
       "      <th>1</th>\n",
       "      <td>Alaska</td>\n",
       "      <td>10.0</td>\n",
       "      <td>263</td>\n",
       "      <td>48</td>\n",
       "      <td>44.5</td>\n",
       "      <td>2</td>\n",
       "      <td>2</td>\n",
       "      <td>1</td>\n",
       "    </tr>\n",
       "    <tr>\n",
       "      <th>2</th>\n",
       "      <td>Arizona</td>\n",
       "      <td>8.1</td>\n",
       "      <td>294</td>\n",
       "      <td>80</td>\n",
       "      <td>31.0</td>\n",
       "      <td>0</td>\n",
       "      <td>1</td>\n",
       "      <td>1</td>\n",
       "    </tr>\n",
       "    <tr>\n",
       "      <th>3</th>\n",
       "      <td>Arkansas</td>\n",
       "      <td>8.8</td>\n",
       "      <td>190</td>\n",
       "      <td>50</td>\n",
       "      <td>19.5</td>\n",
       "      <td>2</td>\n",
       "      <td>2</td>\n",
       "      <td>0</td>\n",
       "    </tr>\n",
       "    <tr>\n",
       "      <th>4</th>\n",
       "      <td>California</td>\n",
       "      <td>9.0</td>\n",
       "      <td>276</td>\n",
       "      <td>91</td>\n",
       "      <td>40.6</td>\n",
       "      <td>0</td>\n",
       "      <td>1</td>\n",
       "      <td>1</td>\n",
       "    </tr>\n",
       "  </tbody>\n",
       "</table>\n",
       "</div>"
      ],
      "text/plain": [
       "        State  Murder  Assault  UrbanPop  Rape  clust  clust2  K_means_segment\n",
       "0     Alabama    13.2      236        58  21.2      2       2                1\n",
       "1      Alaska    10.0      263        48  44.5      2       2                1\n",
       "2     Arizona     8.1      294        80  31.0      0       1                1\n",
       "3    Arkansas     8.8      190        50  19.5      2       2                0\n",
       "4  California     9.0      276        91  40.6      0       1                1"
      ]
     },
     "execution_count": 39,
     "metadata": {},
     "output_type": "execute_result"
    }
   ],
   "source": [
    "#The last column we add K-means clustering labels.\n",
    "crime_data['K_means_segment']=kmeans_data.labels_\n",
    "crime_data.head()"
   ]
  },
  {
   "cell_type": "code",
   "execution_count": 40,
   "id": "177b69f5",
   "metadata": {
    "ExecuteTime": {
     "end_time": "2022-01-26T18:49:32.906193Z",
     "start_time": "2022-01-26T18:49:32.420733Z"
    }
   },
   "outputs": [
    {
     "name": "stderr",
     "output_type": "stream",
     "text": [
      "C:\\Users\\rahul\\anaconda3\\lib\\site-packages\\seaborn\\_decorators.py:36: FutureWarning: Pass the following variables as keyword args: x, y. From version 0.12, the only valid positional argument will be `data`, and passing other arguments without an explicit keyword will result in an error or misinterpretation.\n",
      "  warnings.warn(\n"
     ]
    },
    {
     "data": {
      "image/png": "[encoded data removed]",
      "text/plain": [
       "<Figure size 720x720 with 1 Axes>"
      ]
     },
     "metadata": {
      "needs_background": "light"
     },
     "output_type": "display_data"
    }
   ],
   "source": [
    "#let’s visualize the K-means clustering\n",
    "colors=['purple','red','blue','green']\n",
    "plt.figure(figsize=(10,10))\n",
    "sns.scatterplot(crime_data['Murder'], crime_data['Assault'],hue=crime_data['K_means_segment'],\n",
    "                cmap=matplotlib.colors.ListedColormap(colors),s=15,size=crime_data.K_means_segment, \n",
    "                sizes=(20, 200), legend=\"full\")\n",
    "plt.title('Cluster by K-means')\n",
    "plt.show()"
   ]
  },
  {
   "cell_type": "code",
   "execution_count": 41,
   "id": "06d3cf61",
   "metadata": {
    "ExecuteTime": {
     "end_time": "2022-01-26T18:49:32.921079Z",
     "start_time": "2022-01-26T18:49:32.912119Z"
    }
   },
   "outputs": [
    {
     "data": {
      "text/plain": [
       "array([[-0.32992986, -0.51025053, -0.41932283, -0.41188581],\n",
       "       [ 0.47676261,  0.45084678,  0.1136795 ,  0.38588838],\n",
       "       [-0.43734581, -0.27959282,  0.54386708, -0.14560849]])"
      ]
     },
     "execution_count": 41,
     "metadata": {},
     "output_type": "execute_result"
    }
   ],
   "source": [
    "# As we passed n_cluster to be 4 we get 4 centres of the clusters\n",
    "kmeans_data.cluster_centers_"
   ]
  },
  {
   "cell_type": "code",
   "execution_count": 42,
   "id": "b1bfb444",
   "metadata": {
    "ExecuteTime": {
     "end_time": "2022-01-26T18:49:33.091925Z",
     "start_time": "2022-01-26T18:49:32.921409Z"
    }
   },
   "outputs": [
    {
     "data": {
      "text/html": [
       "<div>\n",
       "<style scoped>\n",
       "    .dataframe tbody tr th:only-of-type {\n",
       "        vertical-align: middle;\n",
       "    }\n",
       "\n",
       "    .dataframe tbody tr th {\n",
       "        vertical-align: top;\n",
       "    }\n",
       "\n",
       "    .dataframe thead th {\n",
       "        text-align: right;\n",
       "    }\n",
       "</style>\n",
       "<table border=\"1\" class=\"dataframe\">\n",
       "  <thead>\n",
       "    <tr style=\"text-align: right;\">\n",
       "      <th></th>\n",
       "      <th>Murder</th>\n",
       "      <th>Assault</th>\n",
       "      <th>UrbanPop</th>\n",
       "      <th>Rape</th>\n",
       "    </tr>\n",
       "    <tr>\n",
       "      <th>K_means_segment</th>\n",
       "      <th></th>\n",
       "      <th></th>\n",
       "      <th></th>\n",
       "      <th></th>\n",
       "    </tr>\n",
       "  </thead>\n",
       "  <tbody>\n",
       "    <tr>\n",
       "      <th>0</th>\n",
       "      <td>4.672222</td>\n",
       "      <td>97.555556</td>\n",
       "      <td>54.500000</td>\n",
       "      <td>14.061111</td>\n",
       "    </tr>\n",
       "    <tr>\n",
       "      <th>1</th>\n",
       "      <td>12.165000</td>\n",
       "      <td>255.250000</td>\n",
       "      <td>68.400000</td>\n",
       "      <td>29.165000</td>\n",
       "    </tr>\n",
       "    <tr>\n",
       "      <th>2</th>\n",
       "      <td>5.166667</td>\n",
       "      <td>139.750000</td>\n",
       "      <td>77.333333</td>\n",
       "      <td>18.766667</td>\n",
       "    </tr>\n",
       "  </tbody>\n",
       "</table>\n",
       "</div>"
      ],
      "text/plain": [
       "                    Murder     Assault   UrbanPop       Rape\n",
       "K_means_segment                                             \n",
       "0                 4.672222   97.555556  54.500000  14.061111\n",
       "1                12.165000  255.250000  68.400000  29.165000\n",
       "2                 5.166667  139.750000  77.333333  18.766667"
      ]
     },
     "execution_count": 42,
     "metadata": {},
     "output_type": "execute_result"
    }
   ],
   "source": [
    "crime_data.iloc[:,1:5].groupby(crime_data.K_means_segment).mean()"
   ]
  },
  {
   "cell_type": "markdown",
   "id": "325e302f",
   "metadata": {},
   "source": [
    "## DBSCAN Clustering"
   ]
  },
  {
   "cell_type": "markdown",
   "id": "036adeac",
   "metadata": {},
   "source": [
    "For epsilon,K-distance graph. For plotting a K-distance Graph, we need the distance between a point and its nearest data point for all data points in the dataset. We obtain this using NearestNeighbors from sklearn.neighbors."
   ]
  },
  {
   "cell_type": "code",
   "execution_count": 43,
   "id": "12b77903",
   "metadata": {
    "ExecuteTime": {
     "end_time": "2022-01-26T18:49:33.344076Z",
     "start_time": "2022-01-26T18:49:33.093691Z"
    }
   },
   "outputs": [],
   "source": [
    "from sklearn.neighbors import NearestNeighbors\n",
    "neigh = NearestNeighbors(n_neighbors=4)\n",
    "nbrs = neigh.fit(normalize_dataset)\n",
    "distances, indices = nbrs.kneighbors(normalize_dataset)"
   ]
  },
  {
   "cell_type": "code",
   "execution_count": 44,
   "id": "1ee5dc19",
   "metadata": {
    "ExecuteTime": {
     "end_time": "2022-01-26T18:49:33.716333Z",
     "start_time": "2022-01-26T18:49:33.346005Z"
    }
   },
   "outputs": [
    {
     "data": {
      "image/png": "[encoded data removed]",
      "text/plain": [
       "<Figure size 1440x720 with 1 Axes>"
      ]
     },
     "metadata": {
      "needs_background": "light"
     },
     "output_type": "display_data"
    }
   ],
   "source": [
    "# Plotting K-distance Graph\n",
    "distances = np.sort(distances, axis=0)\n",
    "distances = distances[:,1]\n",
    "plt.figure(figsize=(20,10))\n",
    "plt.plot(distances,marker='o',linestyle='--')\n",
    "plt.title('K-distance Graph',fontsize=20)\n",
    "plt.xlabel('Data Points sorted by distance',fontsize=14)\n",
    "plt.ylabel('Epsilon',fontsize=14)\n",
    "plt.show()"
   ]
  },
  {
   "cell_type": "code",
   "execution_count": 45,
   "id": "642d6a26",
   "metadata": {
    "ExecuteTime": {
     "end_time": "2022-01-26T18:49:33.842908Z",
     "start_time": "2022-01-26T18:49:33.718139Z"
    }
   },
   "outputs": [
    {
     "data": {
      "text/plain": [
       "DBSCAN(min_samples=6)"
      ]
     },
     "execution_count": 45,
     "metadata": {},
     "output_type": "execute_result"
    }
   ],
   "source": [
    "dbscan_opt=DBSCAN(eps=0.5,min_samples=6,metric='euclidean')\n",
    "dbscan_opt.fit(normalize_dataset)"
   ]
  },
  {
   "cell_type": "code",
   "execution_count": 46,
   "id": "e8a70427",
   "metadata": {
    "ExecuteTime": {
     "end_time": "2022-01-26T18:49:33.979909Z",
     "start_time": "2022-01-26T18:49:33.844904Z"
    }
   },
   "outputs": [
    {
     "data": {
      "text/plain": [
       "-1    22\n",
       " 1    17\n",
       " 0    11\n",
       "Name: DBSCAN_opt_labels, dtype: int64"
      ]
     },
     "execution_count": 46,
     "metadata": {},
     "output_type": "execute_result"
    }
   ],
   "source": [
    "crime_data['DBSCAN_opt_labels']=dbscan_opt.labels_\n",
    "crime_data['DBSCAN_opt_labels'].value_counts()"
   ]
  },
  {
   "cell_type": "code",
   "execution_count": 47,
   "id": "f7b67293",
   "metadata": {
    "ExecuteTime": {
     "end_time": "2022-01-26T18:49:34.448494Z",
     "start_time": "2022-01-26T18:49:33.980906Z"
    }
   },
   "outputs": [
    {
     "name": "stderr",
     "output_type": "stream",
     "text": [
      "C:\\Users\\rahul\\anaconda3\\lib\\site-packages\\seaborn\\_decorators.py:36: FutureWarning: Pass the following variables as keyword args: x, y. From version 0.12, the only valid positional argument will be `data`, and passing other arguments without an explicit keyword will result in an error or misinterpretation.\n",
      "  warnings.warn(\n"
     ]
    },
    {
     "data": {
      "image/png": "[encoded data removed]",
      "text/plain": [
       "<Figure size 720x720 with 1 Axes>"
      ]
     },
     "metadata": {
      "needs_background": "light"
     },
     "output_type": "display_data"
    }
   ],
   "source": [
    "# Plotting the resulting clusters\n",
    "plt.figure(figsize=(10,10))\n",
    "sns.scatterplot(crime_data['Murder'], crime_data['Assault'],c=crime_data['DBSCAN_opt_labels'],\n",
    "                s=15,size=crime_data.DBSCAN_opt_labels, \n",
    "             sizes=(20, 200), legend=\"full\")\n",
    "plt.title('DBSCAN Clustering',fontsize=20)\n",
    "plt.xlabel('Murder',fontsize=14)\n",
    "plt.ylabel('Assault',fontsize=14)\n",
    "plt.show()"
   ]
  },
  {
   "cell_type": "code",
   "execution_count": 48,
   "id": "26c181d0",
   "metadata": {
    "ExecuteTime": {
     "end_time": "2022-01-26T18:49:34.463305Z",
     "start_time": "2022-01-26T18:49:34.450428Z"
    }
   },
   "outputs": [
    {
     "data": {
      "text/html": [
       "<div>\n",
       "<style scoped>\n",
       "    .dataframe tbody tr th:only-of-type {\n",
       "        vertical-align: middle;\n",
       "    }\n",
       "\n",
       "    .dataframe tbody tr th {\n",
       "        vertical-align: top;\n",
       "    }\n",
       "\n",
       "    .dataframe thead th {\n",
       "        text-align: right;\n",
       "    }\n",
       "</style>\n",
       "<table border=\"1\" class=\"dataframe\">\n",
       "  <thead>\n",
       "    <tr style=\"text-align: right;\">\n",
       "      <th></th>\n",
       "      <th>Murder</th>\n",
       "      <th>Assault</th>\n",
       "      <th>UrbanPop</th>\n",
       "      <th>Rape</th>\n",
       "    </tr>\n",
       "    <tr>\n",
       "      <th>DBSCAN_opt_labels</th>\n",
       "      <th></th>\n",
       "      <th></th>\n",
       "      <th></th>\n",
       "      <th></th>\n",
       "    </tr>\n",
       "  </thead>\n",
       "  <tbody>\n",
       "    <tr>\n",
       "      <th>-1</th>\n",
       "      <td>9.336364</td>\n",
       "      <td>186.409091</td>\n",
       "      <td>65.863636</td>\n",
       "      <td>21.750000</td>\n",
       "    </tr>\n",
       "    <tr>\n",
       "      <th>0</th>\n",
       "      <td>10.718182</td>\n",
       "      <td>262.000000</td>\n",
       "      <td>78.181818</td>\n",
       "      <td>32.863636</td>\n",
       "    </tr>\n",
       "    <tr>\n",
       "      <th>1</th>\n",
       "      <td>3.888235</td>\n",
       "      <td>91.470588</td>\n",
       "      <td>56.941176</td>\n",
       "      <td>13.035294</td>\n",
       "    </tr>\n",
       "  </tbody>\n",
       "</table>\n",
       "</div>"
      ],
      "text/plain": [
       "                      Murder     Assault   UrbanPop       Rape\n",
       "DBSCAN_opt_labels                                             \n",
       "-1                  9.336364  186.409091  65.863636  21.750000\n",
       " 0                 10.718182  262.000000  78.181818  32.863636\n",
       " 1                  3.888235   91.470588  56.941176  13.035294"
      ]
     },
     "execution_count": 48,
     "metadata": {},
     "output_type": "execute_result"
    }
   ],
   "source": [
    "crime_data.iloc[:,1:5].groupby(crime_data.DBSCAN_opt_labels).mean()"
   ]
  },
  {
   "cell_type": "code",
   "execution_count": 49,
   "id": "cdf8e7cc",
   "metadata": {
    "ExecuteTime": {
     "end_time": "2022-01-26T18:49:35.434460Z",
     "start_time": "2022-01-26T18:49:34.464302Z"
    }
   },
   "outputs": [
    {
     "data": {
      "image/png": "[encoded data removed]",
      "text/plain": [
       "<Figure size 720x432 with 1 Axes>"
      ]
     },
     "metadata": {
      "needs_background": "light"
     },
     "output_type": "display_data"
    }
   ],
   "source": [
    "fig, ax = plt.subplots(figsize=(10, 6))\n",
    "crime_data.groupby(['DBSCAN_opt_labels']).count()['State'].plot(kind='bar')\n",
    "plt.ylabel('State Counts')\n",
    "plt.title('DBSCAN Clustering',fontsize='large',fontweight='bold')\n",
    "ax.set_xlabel('Clusters', fontsize='large', fontweight='bold')\n",
    "ax.set_ylabel('ID counts', fontsize='large', fontweight='bold')\n",
    "plt.yticks(fontsize=15)\n",
    "plt.xticks(fontsize=15)\n",
    "plt.show()"
   ]
  },
  {
   "cell_type": "code",
   "execution_count": 50,
   "id": "18abb4d4",
   "metadata": {
    "ExecuteTime": {
     "end_time": "2022-01-26T18:49:35.745183Z",
     "start_time": "2022-01-26T18:49:35.435457Z"
    }
   },
   "outputs": [
    {
     "data": {
      "image/png": "[encoded data removed]",
      "text/plain": [
       "<Figure size 720x432 with 1 Axes>"
      ]
     },
     "metadata": {
      "needs_background": "light"
     },
     "output_type": "display_data"
    }
   ],
   "source": [
    "fig, ax = plt.subplots(figsize=(10, 6))\n",
    "crime_data.groupby(['K_means_segment']).count()['State'].plot(kind='bar')\n",
    "plt.ylabel('State Counts')\n",
    "plt.title('K-Means Clustering',fontsize='large',fontweight='bold')\n",
    "ax.set_xlabel('Clusters', fontsize='large', fontweight='bold')\n",
    "ax.set_ylabel('ID counts', fontsize='large', fontweight='bold')\n",
    "plt.yticks(fontsize=15)\n",
    "plt.xticks(fontsize=15)\n",
    "plt.show()"
   ]
  },
  {
   "cell_type": "code",
   "execution_count": 51,
   "id": "c9019629",
   "metadata": {
    "ExecuteTime": {
     "end_time": "2022-01-26T18:49:35.915636Z",
     "start_time": "2022-01-26T18:49:35.747186Z"
    }
   },
   "outputs": [
    {
     "data": {
      "image/png": "[encoded data removed]",
      "text/plain": [
       "<Figure size 720x432 with 1 Axes>"
      ]
     },
     "metadata": {
      "needs_background": "light"
     },
     "output_type": "display_data"
    }
   ],
   "source": [
    "fig, ax = plt.subplots(figsize=(10, 6))\n",
    "crime_data.groupby(['clust2']).count()['State'].plot(kind='bar')\n",
    "plt.ylabel('State Counts')\n",
    "plt.title('Hierarchical Clustering',fontsize='large',fontweight='bold')\n",
    "ax.set_xlabel('Clusters', fontsize='large', fontweight='bold')\n",
    "ax.set_ylabel('ID counts', fontsize='large', fontweight='bold')\n",
    "plt.yticks(fontsize=15)\n",
    "plt.xticks(fontsize=15)\n",
    "plt.show()"
   ]
  },
  {
   "cell_type": "code",
   "execution_count": 52,
   "id": "cf6ebf86",
   "metadata": {
    "ExecuteTime": {
     "end_time": "2022-01-26T18:49:35.946340Z",
     "start_time": "2022-01-26T18:49:35.916634Z"
    }
   },
   "outputs": [
    {
     "data": {
      "text/html": [
       "<div>\n",
       "<style scoped>\n",
       "    .dataframe tbody tr th:only-of-type {\n",
       "        vertical-align: middle;\n",
       "    }\n",
       "\n",
       "    .dataframe tbody tr th {\n",
       "        vertical-align: top;\n",
       "    }\n",
       "\n",
       "    .dataframe thead th {\n",
       "        text-align: right;\n",
       "    }\n",
       "</style>\n",
       "<table border=\"1\" class=\"dataframe\">\n",
       "  <thead>\n",
       "    <tr style=\"text-align: right;\">\n",
       "      <th></th>\n",
       "      <th>State</th>\n",
       "      <th>Murder</th>\n",
       "      <th>Assault</th>\n",
       "      <th>UrbanPop</th>\n",
       "      <th>Rape</th>\n",
       "      <th>clust</th>\n",
       "      <th>clust2</th>\n",
       "      <th>K_means_segment</th>\n",
       "      <th>DBSCAN_opt_labels</th>\n",
       "    </tr>\n",
       "  </thead>\n",
       "  <tbody>\n",
       "    <tr>\n",
       "      <th>0</th>\n",
       "      <td>Alabama</td>\n",
       "      <td>13.2</td>\n",
       "      <td>236</td>\n",
       "      <td>58</td>\n",
       "      <td>21.2</td>\n",
       "      <td>2</td>\n",
       "      <td>2</td>\n",
       "      <td>1</td>\n",
       "      <td>-1</td>\n",
       "    </tr>\n",
       "    <tr>\n",
       "      <th>1</th>\n",
       "      <td>Alaska</td>\n",
       "      <td>10.0</td>\n",
       "      <td>263</td>\n",
       "      <td>48</td>\n",
       "      <td>44.5</td>\n",
       "      <td>2</td>\n",
       "      <td>2</td>\n",
       "      <td>1</td>\n",
       "      <td>-1</td>\n",
       "    </tr>\n",
       "    <tr>\n",
       "      <th>2</th>\n",
       "      <td>Arizona</td>\n",
       "      <td>8.1</td>\n",
       "      <td>294</td>\n",
       "      <td>80</td>\n",
       "      <td>31.0</td>\n",
       "      <td>0</td>\n",
       "      <td>1</td>\n",
       "      <td>1</td>\n",
       "      <td>0</td>\n",
       "    </tr>\n",
       "    <tr>\n",
       "      <th>3</th>\n",
       "      <td>Arkansas</td>\n",
       "      <td>8.8</td>\n",
       "      <td>190</td>\n",
       "      <td>50</td>\n",
       "      <td>19.5</td>\n",
       "      <td>2</td>\n",
       "      <td>2</td>\n",
       "      <td>0</td>\n",
       "      <td>-1</td>\n",
       "    </tr>\n",
       "    <tr>\n",
       "      <th>4</th>\n",
       "      <td>California</td>\n",
       "      <td>9.0</td>\n",
       "      <td>276</td>\n",
       "      <td>91</td>\n",
       "      <td>40.6</td>\n",
       "      <td>0</td>\n",
       "      <td>1</td>\n",
       "      <td>1</td>\n",
       "      <td>0</td>\n",
       "    </tr>\n",
       "    <tr>\n",
       "      <th>5</th>\n",
       "      <td>Colorado</td>\n",
       "      <td>7.9</td>\n",
       "      <td>204</td>\n",
       "      <td>78</td>\n",
       "      <td>38.7</td>\n",
       "      <td>0</td>\n",
       "      <td>1</td>\n",
       "      <td>1</td>\n",
       "      <td>0</td>\n",
       "    </tr>\n",
       "    <tr>\n",
       "      <th>6</th>\n",
       "      <td>Connecticut</td>\n",
       "      <td>3.3</td>\n",
       "      <td>110</td>\n",
       "      <td>77</td>\n",
       "      <td>11.1</td>\n",
       "      <td>1</td>\n",
       "      <td>0</td>\n",
       "      <td>2</td>\n",
       "      <td>1</td>\n",
       "    </tr>\n",
       "    <tr>\n",
       "      <th>7</th>\n",
       "      <td>Delaware</td>\n",
       "      <td>5.9</td>\n",
       "      <td>238</td>\n",
       "      <td>72</td>\n",
       "      <td>15.8</td>\n",
       "      <td>0</td>\n",
       "      <td>1</td>\n",
       "      <td>2</td>\n",
       "      <td>-1</td>\n",
       "    </tr>\n",
       "    <tr>\n",
       "      <th>8</th>\n",
       "      <td>Florida</td>\n",
       "      <td>15.4</td>\n",
       "      <td>335</td>\n",
       "      <td>80</td>\n",
       "      <td>31.9</td>\n",
       "      <td>0</td>\n",
       "      <td>1</td>\n",
       "      <td>1</td>\n",
       "      <td>0</td>\n",
       "    </tr>\n",
       "    <tr>\n",
       "      <th>9</th>\n",
       "      <td>Georgia</td>\n",
       "      <td>17.4</td>\n",
       "      <td>211</td>\n",
       "      <td>60</td>\n",
       "      <td>25.8</td>\n",
       "      <td>2</td>\n",
       "      <td>2</td>\n",
       "      <td>1</td>\n",
       "      <td>-1</td>\n",
       "    </tr>\n",
       "    <tr>\n",
       "      <th>10</th>\n",
       "      <td>Hawaii</td>\n",
       "      <td>5.3</td>\n",
       "      <td>46</td>\n",
       "      <td>83</td>\n",
       "      <td>20.2</td>\n",
       "      <td>1</td>\n",
       "      <td>0</td>\n",
       "      <td>2</td>\n",
       "      <td>-1</td>\n",
       "    </tr>\n",
       "    <tr>\n",
       "      <th>11</th>\n",
       "      <td>Idaho</td>\n",
       "      <td>2.6</td>\n",
       "      <td>120</td>\n",
       "      <td>54</td>\n",
       "      <td>14.2</td>\n",
       "      <td>3</td>\n",
       "      <td>0</td>\n",
       "      <td>0</td>\n",
       "      <td>1</td>\n",
       "    </tr>\n",
       "    <tr>\n",
       "      <th>12</th>\n",
       "      <td>Illinois</td>\n",
       "      <td>10.4</td>\n",
       "      <td>249</td>\n",
       "      <td>83</td>\n",
       "      <td>24.0</td>\n",
       "      <td>0</td>\n",
       "      <td>1</td>\n",
       "      <td>1</td>\n",
       "      <td>0</td>\n",
       "    </tr>\n",
       "    <tr>\n",
       "      <th>13</th>\n",
       "      <td>Indiana</td>\n",
       "      <td>7.2</td>\n",
       "      <td>113</td>\n",
       "      <td>65</td>\n",
       "      <td>21.0</td>\n",
       "      <td>1</td>\n",
       "      <td>0</td>\n",
       "      <td>0</td>\n",
       "      <td>-1</td>\n",
       "    </tr>\n",
       "    <tr>\n",
       "      <th>14</th>\n",
       "      <td>Iowa</td>\n",
       "      <td>2.2</td>\n",
       "      <td>56</td>\n",
       "      <td>57</td>\n",
       "      <td>11.3</td>\n",
       "      <td>1</td>\n",
       "      <td>0</td>\n",
       "      <td>0</td>\n",
       "      <td>1</td>\n",
       "    </tr>\n",
       "    <tr>\n",
       "      <th>15</th>\n",
       "      <td>Kansas</td>\n",
       "      <td>6.0</td>\n",
       "      <td>115</td>\n",
       "      <td>66</td>\n",
       "      <td>18.0</td>\n",
       "      <td>1</td>\n",
       "      <td>0</td>\n",
       "      <td>0</td>\n",
       "      <td>1</td>\n",
       "    </tr>\n",
       "    <tr>\n",
       "      <th>16</th>\n",
       "      <td>Kentucky</td>\n",
       "      <td>9.7</td>\n",
       "      <td>109</td>\n",
       "      <td>52</td>\n",
       "      <td>16.3</td>\n",
       "      <td>3</td>\n",
       "      <td>0</td>\n",
       "      <td>0</td>\n",
       "      <td>-1</td>\n",
       "    </tr>\n",
       "    <tr>\n",
       "      <th>17</th>\n",
       "      <td>Louisiana</td>\n",
       "      <td>15.4</td>\n",
       "      <td>249</td>\n",
       "      <td>66</td>\n",
       "      <td>22.2</td>\n",
       "      <td>2</td>\n",
       "      <td>2</td>\n",
       "      <td>1</td>\n",
       "      <td>-1</td>\n",
       "    </tr>\n",
       "    <tr>\n",
       "      <th>18</th>\n",
       "      <td>Maine</td>\n",
       "      <td>2.1</td>\n",
       "      <td>83</td>\n",
       "      <td>51</td>\n",
       "      <td>7.8</td>\n",
       "      <td>3</td>\n",
       "      <td>0</td>\n",
       "      <td>0</td>\n",
       "      <td>1</td>\n",
       "    </tr>\n",
       "    <tr>\n",
       "      <th>19</th>\n",
       "      <td>Maryland</td>\n",
       "      <td>11.3</td>\n",
       "      <td>300</td>\n",
       "      <td>67</td>\n",
       "      <td>27.8</td>\n",
       "      <td>0</td>\n",
       "      <td>1</td>\n",
       "      <td>1</td>\n",
       "      <td>0</td>\n",
       "    </tr>\n",
       "    <tr>\n",
       "      <th>20</th>\n",
       "      <td>Massachusetts</td>\n",
       "      <td>4.4</td>\n",
       "      <td>149</td>\n",
       "      <td>85</td>\n",
       "      <td>16.3</td>\n",
       "      <td>0</td>\n",
       "      <td>1</td>\n",
       "      <td>2</td>\n",
       "      <td>-1</td>\n",
       "    </tr>\n",
       "    <tr>\n",
       "      <th>21</th>\n",
       "      <td>Michigan</td>\n",
       "      <td>12.1</td>\n",
       "      <td>255</td>\n",
       "      <td>74</td>\n",
       "      <td>35.1</td>\n",
       "      <td>0</td>\n",
       "      <td>1</td>\n",
       "      <td>1</td>\n",
       "      <td>0</td>\n",
       "    </tr>\n",
       "    <tr>\n",
       "      <th>22</th>\n",
       "      <td>Minnesota</td>\n",
       "      <td>2.7</td>\n",
       "      <td>72</td>\n",
       "      <td>66</td>\n",
       "      <td>14.9</td>\n",
       "      <td>1</td>\n",
       "      <td>0</td>\n",
       "      <td>0</td>\n",
       "      <td>1</td>\n",
       "    </tr>\n",
       "    <tr>\n",
       "      <th>23</th>\n",
       "      <td>Mississippi</td>\n",
       "      <td>16.1</td>\n",
       "      <td>259</td>\n",
       "      <td>44</td>\n",
       "      <td>17.1</td>\n",
       "      <td>2</td>\n",
       "      <td>2</td>\n",
       "      <td>1</td>\n",
       "      <td>-1</td>\n",
       "    </tr>\n",
       "    <tr>\n",
       "      <th>24</th>\n",
       "      <td>Missouri</td>\n",
       "      <td>9.0</td>\n",
       "      <td>178</td>\n",
       "      <td>70</td>\n",
       "      <td>28.2</td>\n",
       "      <td>0</td>\n",
       "      <td>1</td>\n",
       "      <td>1</td>\n",
       "      <td>0</td>\n",
       "    </tr>\n",
       "    <tr>\n",
       "      <th>25</th>\n",
       "      <td>Montana</td>\n",
       "      <td>6.0</td>\n",
       "      <td>109</td>\n",
       "      <td>53</td>\n",
       "      <td>16.4</td>\n",
       "      <td>3</td>\n",
       "      <td>0</td>\n",
       "      <td>0</td>\n",
       "      <td>1</td>\n",
       "    </tr>\n",
       "    <tr>\n",
       "      <th>26</th>\n",
       "      <td>Nebraska</td>\n",
       "      <td>4.3</td>\n",
       "      <td>102</td>\n",
       "      <td>62</td>\n",
       "      <td>16.5</td>\n",
       "      <td>1</td>\n",
       "      <td>0</td>\n",
       "      <td>0</td>\n",
       "      <td>1</td>\n",
       "    </tr>\n",
       "    <tr>\n",
       "      <th>27</th>\n",
       "      <td>Nevada</td>\n",
       "      <td>12.2</td>\n",
       "      <td>252</td>\n",
       "      <td>81</td>\n",
       "      <td>46.0</td>\n",
       "      <td>0</td>\n",
       "      <td>1</td>\n",
       "      <td>1</td>\n",
       "      <td>0</td>\n",
       "    </tr>\n",
       "    <tr>\n",
       "      <th>28</th>\n",
       "      <td>New Hampshire</td>\n",
       "      <td>2.1</td>\n",
       "      <td>57</td>\n",
       "      <td>56</td>\n",
       "      <td>9.5</td>\n",
       "      <td>1</td>\n",
       "      <td>0</td>\n",
       "      <td>0</td>\n",
       "      <td>1</td>\n",
       "    </tr>\n",
       "    <tr>\n",
       "      <th>29</th>\n",
       "      <td>New Jersey</td>\n",
       "      <td>7.4</td>\n",
       "      <td>159</td>\n",
       "      <td>89</td>\n",
       "      <td>18.8</td>\n",
       "      <td>0</td>\n",
       "      <td>1</td>\n",
       "      <td>2</td>\n",
       "      <td>-1</td>\n",
       "    </tr>\n",
       "    <tr>\n",
       "      <th>30</th>\n",
       "      <td>New Mexico</td>\n",
       "      <td>11.4</td>\n",
       "      <td>285</td>\n",
       "      <td>70</td>\n",
       "      <td>32.1</td>\n",
       "      <td>0</td>\n",
       "      <td>1</td>\n",
       "      <td>1</td>\n",
       "      <td>0</td>\n",
       "    </tr>\n",
       "    <tr>\n",
       "      <th>31</th>\n",
       "      <td>New York</td>\n",
       "      <td>11.1</td>\n",
       "      <td>254</td>\n",
       "      <td>86</td>\n",
       "      <td>26.1</td>\n",
       "      <td>0</td>\n",
       "      <td>1</td>\n",
       "      <td>1</td>\n",
       "      <td>0</td>\n",
       "    </tr>\n",
       "    <tr>\n",
       "      <th>32</th>\n",
       "      <td>North Carolina</td>\n",
       "      <td>13.0</td>\n",
       "      <td>337</td>\n",
       "      <td>45</td>\n",
       "      <td>16.1</td>\n",
       "      <td>2</td>\n",
       "      <td>2</td>\n",
       "      <td>1</td>\n",
       "      <td>-1</td>\n",
       "    </tr>\n",
       "    <tr>\n",
       "      <th>33</th>\n",
       "      <td>North Dakota</td>\n",
       "      <td>0.8</td>\n",
       "      <td>45</td>\n",
       "      <td>44</td>\n",
       "      <td>7.3</td>\n",
       "      <td>3</td>\n",
       "      <td>0</td>\n",
       "      <td>0</td>\n",
       "      <td>1</td>\n",
       "    </tr>\n",
       "    <tr>\n",
       "      <th>34</th>\n",
       "      <td>Ohio</td>\n",
       "      <td>7.3</td>\n",
       "      <td>120</td>\n",
       "      <td>75</td>\n",
       "      <td>21.4</td>\n",
       "      <td>1</td>\n",
       "      <td>0</td>\n",
       "      <td>2</td>\n",
       "      <td>-1</td>\n",
       "    </tr>\n",
       "    <tr>\n",
       "      <th>35</th>\n",
       "      <td>Oklahoma</td>\n",
       "      <td>6.6</td>\n",
       "      <td>151</td>\n",
       "      <td>68</td>\n",
       "      <td>20.0</td>\n",
       "      <td>1</td>\n",
       "      <td>0</td>\n",
       "      <td>2</td>\n",
       "      <td>1</td>\n",
       "    </tr>\n",
       "    <tr>\n",
       "      <th>36</th>\n",
       "      <td>Oregon</td>\n",
       "      <td>4.9</td>\n",
       "      <td>159</td>\n",
       "      <td>67</td>\n",
       "      <td>29.3</td>\n",
       "      <td>1</td>\n",
       "      <td>0</td>\n",
       "      <td>2</td>\n",
       "      <td>-1</td>\n",
       "    </tr>\n",
       "    <tr>\n",
       "      <th>37</th>\n",
       "      <td>Pennsylvania</td>\n",
       "      <td>6.3</td>\n",
       "      <td>106</td>\n",
       "      <td>72</td>\n",
       "      <td>14.9</td>\n",
       "      <td>1</td>\n",
       "      <td>0</td>\n",
       "      <td>2</td>\n",
       "      <td>1</td>\n",
       "    </tr>\n",
       "    <tr>\n",
       "      <th>38</th>\n",
       "      <td>Rhode Island</td>\n",
       "      <td>3.4</td>\n",
       "      <td>174</td>\n",
       "      <td>87</td>\n",
       "      <td>8.3</td>\n",
       "      <td>0</td>\n",
       "      <td>1</td>\n",
       "      <td>2</td>\n",
       "      <td>-1</td>\n",
       "    </tr>\n",
       "    <tr>\n",
       "      <th>39</th>\n",
       "      <td>South Carolina</td>\n",
       "      <td>14.4</td>\n",
       "      <td>279</td>\n",
       "      <td>48</td>\n",
       "      <td>22.5</td>\n",
       "      <td>2</td>\n",
       "      <td>2</td>\n",
       "      <td>1</td>\n",
       "      <td>-1</td>\n",
       "    </tr>\n",
       "    <tr>\n",
       "      <th>40</th>\n",
       "      <td>South Dakota</td>\n",
       "      <td>3.8</td>\n",
       "      <td>86</td>\n",
       "      <td>45</td>\n",
       "      <td>12.8</td>\n",
       "      <td>3</td>\n",
       "      <td>0</td>\n",
       "      <td>0</td>\n",
       "      <td>1</td>\n",
       "    </tr>\n",
       "    <tr>\n",
       "      <th>41</th>\n",
       "      <td>Tennessee</td>\n",
       "      <td>13.2</td>\n",
       "      <td>188</td>\n",
       "      <td>59</td>\n",
       "      <td>26.9</td>\n",
       "      <td>2</td>\n",
       "      <td>2</td>\n",
       "      <td>1</td>\n",
       "      <td>-1</td>\n",
       "    </tr>\n",
       "    <tr>\n",
       "      <th>42</th>\n",
       "      <td>Texas</td>\n",
       "      <td>12.7</td>\n",
       "      <td>201</td>\n",
       "      <td>80</td>\n",
       "      <td>25.5</td>\n",
       "      <td>0</td>\n",
       "      <td>1</td>\n",
       "      <td>1</td>\n",
       "      <td>-1</td>\n",
       "    </tr>\n",
       "    <tr>\n",
       "      <th>43</th>\n",
       "      <td>Utah</td>\n",
       "      <td>3.2</td>\n",
       "      <td>120</td>\n",
       "      <td>80</td>\n",
       "      <td>22.9</td>\n",
       "      <td>1</td>\n",
       "      <td>0</td>\n",
       "      <td>2</td>\n",
       "      <td>-1</td>\n",
       "    </tr>\n",
       "    <tr>\n",
       "      <th>44</th>\n",
       "      <td>Vermont</td>\n",
       "      <td>2.2</td>\n",
       "      <td>48</td>\n",
       "      <td>32</td>\n",
       "      <td>11.2</td>\n",
       "      <td>3</td>\n",
       "      <td>0</td>\n",
       "      <td>0</td>\n",
       "      <td>1</td>\n",
       "    </tr>\n",
       "    <tr>\n",
       "      <th>45</th>\n",
       "      <td>Virginia</td>\n",
       "      <td>8.5</td>\n",
       "      <td>156</td>\n",
       "      <td>63</td>\n",
       "      <td>20.7</td>\n",
       "      <td>3</td>\n",
       "      <td>0</td>\n",
       "      <td>0</td>\n",
       "      <td>-1</td>\n",
       "    </tr>\n",
       "    <tr>\n",
       "      <th>46</th>\n",
       "      <td>Washington</td>\n",
       "      <td>4.0</td>\n",
       "      <td>145</td>\n",
       "      <td>73</td>\n",
       "      <td>26.2</td>\n",
       "      <td>1</td>\n",
       "      <td>0</td>\n",
       "      <td>2</td>\n",
       "      <td>-1</td>\n",
       "    </tr>\n",
       "    <tr>\n",
       "      <th>47</th>\n",
       "      <td>West Virginia</td>\n",
       "      <td>5.7</td>\n",
       "      <td>81</td>\n",
       "      <td>39</td>\n",
       "      <td>9.3</td>\n",
       "      <td>3</td>\n",
       "      <td>0</td>\n",
       "      <td>0</td>\n",
       "      <td>1</td>\n",
       "    </tr>\n",
       "    <tr>\n",
       "      <th>48</th>\n",
       "      <td>Wisconsin</td>\n",
       "      <td>2.6</td>\n",
       "      <td>53</td>\n",
       "      <td>66</td>\n",
       "      <td>10.8</td>\n",
       "      <td>1</td>\n",
       "      <td>0</td>\n",
       "      <td>0</td>\n",
       "      <td>1</td>\n",
       "    </tr>\n",
       "    <tr>\n",
       "      <th>49</th>\n",
       "      <td>Wyoming</td>\n",
       "      <td>6.8</td>\n",
       "      <td>161</td>\n",
       "      <td>60</td>\n",
       "      <td>15.6</td>\n",
       "      <td>3</td>\n",
       "      <td>0</td>\n",
       "      <td>0</td>\n",
       "      <td>1</td>\n",
       "    </tr>\n",
       "  </tbody>\n",
       "</table>\n",
       "</div>"
      ],
      "text/plain": [
       "             State  Murder  Assault  UrbanPop  Rape  clust  clust2  \\\n",
       "0          Alabama    13.2      236        58  21.2      2       2   \n",
       "1           Alaska    10.0      263        48  44.5      2       2   \n",
       "2          Arizona     8.1      294        80  31.0      0       1   \n",
       "3         Arkansas     8.8      190        50  19.5      2       2   \n",
       "4       California     9.0      276        91  40.6      0       1   \n",
       "5         Colorado     7.9      204        78  38.7      0       1   \n",
       "6      Connecticut     3.3      110        77  11.1      1       0   \n",
       "7         Delaware     5.9      238        72  15.8      0       1   \n",
       "8          Florida    15.4      335        80  31.9      0       1   \n",
       "9          Georgia    17.4      211        60  25.8      2       2   \n",
       "10          Hawaii     5.3       46        83  20.2      1       0   \n",
       "11           Idaho     2.6      120        54  14.2      3       0   \n",
       "12        Illinois    10.4      249        83  24.0      0       1   \n",
       "13         Indiana     7.2      113        65  21.0      1       0   \n",
       "14            Iowa     2.2       56        57  11.3      1       0   \n",
       "15          Kansas     6.0      115        66  18.0      1       0   \n",
       "16        Kentucky     9.7      109        52  16.3      3       0   \n",
       "17       Louisiana    15.4      249        66  22.2      2       2   \n",
       "18           Maine     2.1       83        51   7.8      3       0   \n",
       "19        Maryland    11.3      300        67  27.8      0       1   \n",
       "20   Massachusetts     4.4      149        85  16.3      0       1   \n",
       "21        Michigan    12.1      255        74  35.1      0       1   \n",
       "22       Minnesota     2.7       72        66  14.9      1       0   \n",
       "23     Mississippi    16.1      259        44  17.1      2       2   \n",
       "24        Missouri     9.0      178        70  28.2      0       1   \n",
       "25         Montana     6.0      109        53  16.4      3       0   \n",
       "26        Nebraska     4.3      102        62  16.5      1       0   \n",
       "27          Nevada    12.2      252        81  46.0      0       1   \n",
       "28   New Hampshire     2.1       57        56   9.5      1       0   \n",
       "29      New Jersey     7.4      159        89  18.8      0       1   \n",
       "30      New Mexico    11.4      285        70  32.1      0       1   \n",
       "31        New York    11.1      254        86  26.1      0       1   \n",
       "32  North Carolina    13.0      337        45  16.1      2       2   \n",
       "33    North Dakota     0.8       45        44   7.3      3       0   \n",
       "34            Ohio     7.3      120        75  21.4      1       0   \n",
       "35        Oklahoma     6.6      151        68  20.0      1       0   \n",
       "36          Oregon     4.9      159        67  29.3      1       0   \n",
       "37    Pennsylvania     6.3      106        72  14.9      1       0   \n",
       "38    Rhode Island     3.4      174        87   8.3      0       1   \n",
       "39  South Carolina    14.4      279        48  22.5      2       2   \n",
       "40    South Dakota     3.8       86        45  12.8      3       0   \n",
       "41       Tennessee    13.2      188        59  26.9      2       2   \n",
       "42           Texas    12.7      201        80  25.5      0       1   \n",
       "43            Utah     3.2      120        80  22.9      1       0   \n",
       "44         Vermont     2.2       48        32  11.2      3       0   \n",
       "45        Virginia     8.5      156        63  20.7      3       0   \n",
       "46      Washington     4.0      145        73  26.2      1       0   \n",
       "47   West Virginia     5.7       81        39   9.3      3       0   \n",
       "48       Wisconsin     2.6       53        66  10.8      1       0   \n",
       "49         Wyoming     6.8      161        60  15.6      3       0   \n",
       "\n",
       "    K_means_segment  DBSCAN_opt_labels  \n",
       "0                 1                 -1  \n",
       "1                 1                 -1  \n",
       "2                 1                  0  \n",
       "3                 0                 -1  \n",
       "4                 1                  0  \n",
       "5                 1                  0  \n",
       "6                 2                  1  \n",
       "7                 2                 -1  \n",
       "8                 1                  0  \n",
       "9                 1                 -1  \n",
       "10                2                 -1  \n",
       "11                0                  1  \n",
       "12                1                  0  \n",
       "13                0                 -1  \n",
       "14                0                  1  \n",
       "15                0                  1  \n",
       "16                0                 -1  \n",
       "17                1                 -1  \n",
       "18                0                  1  \n",
       "19                1                  0  \n",
       "20                2                 -1  \n",
       "21                1                  0  \n",
       "22                0                  1  \n",
       "23                1                 -1  \n",
       "24                1                  0  \n",
       "25                0                  1  \n",
       "26                0                  1  \n",
       "27                1                  0  \n",
       "28                0                  1  \n",
       "29                2                 -1  \n",
       "30                1                  0  \n",
       "31                1                  0  \n",
       "32                1                 -1  \n",
       "33                0                  1  \n",
       "34                2                 -1  \n",
       "35                2                  1  \n",
       "36                2                 -1  \n",
       "37                2                  1  \n",
       "38                2                 -1  \n",
       "39                1                 -1  \n",
       "40                0                  1  \n",
       "41                1                 -1  \n",
       "42                1                 -1  \n",
       "43                2                 -1  \n",
       "44                0                  1  \n",
       "45                0                 -1  \n",
       "46                2                 -1  \n",
       "47                0                  1  \n",
       "48                0                  1  \n",
       "49                0                  1  "
      ]
     },
     "execution_count": 52,
     "metadata": {},
     "output_type": "execute_result"
    }
   ],
   "source": [
    "crime_data"
   ]
  },
  {
   "cell_type": "code",
   "execution_count": 53,
   "id": "35ec3e50",
   "metadata": {
    "ExecuteTime": {
     "end_time": "2022-01-26T18:49:36.039305Z",
     "start_time": "2022-01-26T18:49:35.947551Z"
    }
   },
   "outputs": [
    {
     "data": {
      "text/html": [
       "<div>\n",
       "<style scoped>\n",
       "    .dataframe tbody tr th:only-of-type {\n",
       "        vertical-align: middle;\n",
       "    }\n",
       "\n",
       "    .dataframe tbody tr th {\n",
       "        vertical-align: top;\n",
       "    }\n",
       "\n",
       "    .dataframe thead th {\n",
       "        text-align: right;\n",
       "    }\n",
       "</style>\n",
       "<table border=\"1\" class=\"dataframe\">\n",
       "  <thead>\n",
       "    <tr style=\"text-align: right;\">\n",
       "      <th></th>\n",
       "      <th>Murder</th>\n",
       "      <th>Assault</th>\n",
       "      <th>UrbanPop</th>\n",
       "      <th>Rape</th>\n",
       "    </tr>\n",
       "    <tr>\n",
       "      <th>DBSCAN_opt_labels</th>\n",
       "      <th></th>\n",
       "      <th></th>\n",
       "      <th></th>\n",
       "      <th></th>\n",
       "    </tr>\n",
       "  </thead>\n",
       "  <tbody>\n",
       "    <tr>\n",
       "      <th>-1</th>\n",
       "      <td>9.336364</td>\n",
       "      <td>186.409091</td>\n",
       "      <td>65.863636</td>\n",
       "      <td>21.750000</td>\n",
       "    </tr>\n",
       "    <tr>\n",
       "      <th>0</th>\n",
       "      <td>10.718182</td>\n",
       "      <td>262.000000</td>\n",
       "      <td>78.181818</td>\n",
       "      <td>32.863636</td>\n",
       "    </tr>\n",
       "    <tr>\n",
       "      <th>1</th>\n",
       "      <td>3.888235</td>\n",
       "      <td>91.470588</td>\n",
       "      <td>56.941176</td>\n",
       "      <td>13.035294</td>\n",
       "    </tr>\n",
       "  </tbody>\n",
       "</table>\n",
       "</div>"
      ],
      "text/plain": [
       "                      Murder     Assault   UrbanPop       Rape\n",
       "DBSCAN_opt_labels                                             \n",
       "-1                  9.336364  186.409091  65.863636  21.750000\n",
       " 0                 10.718182  262.000000  78.181818  32.863636\n",
       " 1                  3.888235   91.470588  56.941176  13.035294"
      ]
     },
     "execution_count": 53,
     "metadata": {},
     "output_type": "execute_result"
    }
   ],
   "source": [
    "crime_data.iloc[:,1:5].groupby(crime_data.DBSCAN_opt_labels).mean()"
   ]
  },
  {
   "cell_type": "code",
   "execution_count": 54,
   "id": "b4964f02",
   "metadata": {
    "ExecuteTime": {
     "end_time": "2022-01-26T18:49:36.119155Z",
     "start_time": "2022-01-26T18:49:36.041303Z"
    }
   },
   "outputs": [
    {
     "data": {
      "text/html": [
       "<div>\n",
       "<style scoped>\n",
       "    .dataframe tbody tr th:only-of-type {\n",
       "        vertical-align: middle;\n",
       "    }\n",
       "\n",
       "    .dataframe tbody tr th {\n",
       "        vertical-align: top;\n",
       "    }\n",
       "\n",
       "    .dataframe thead th {\n",
       "        text-align: right;\n",
       "    }\n",
       "</style>\n",
       "<table border=\"1\" class=\"dataframe\">\n",
       "  <thead>\n",
       "    <tr style=\"text-align: right;\">\n",
       "      <th></th>\n",
       "      <th>Murder</th>\n",
       "      <th>Assault</th>\n",
       "      <th>UrbanPop</th>\n",
       "      <th>Rape</th>\n",
       "    </tr>\n",
       "    <tr>\n",
       "      <th>K_means_segment</th>\n",
       "      <th></th>\n",
       "      <th></th>\n",
       "      <th></th>\n",
       "      <th></th>\n",
       "    </tr>\n",
       "  </thead>\n",
       "  <tbody>\n",
       "    <tr>\n",
       "      <th>0</th>\n",
       "      <td>4.672222</td>\n",
       "      <td>97.555556</td>\n",
       "      <td>54.500000</td>\n",
       "      <td>14.061111</td>\n",
       "    </tr>\n",
       "    <tr>\n",
       "      <th>1</th>\n",
       "      <td>12.165000</td>\n",
       "      <td>255.250000</td>\n",
       "      <td>68.400000</td>\n",
       "      <td>29.165000</td>\n",
       "    </tr>\n",
       "    <tr>\n",
       "      <th>2</th>\n",
       "      <td>5.166667</td>\n",
       "      <td>139.750000</td>\n",
       "      <td>77.333333</td>\n",
       "      <td>18.766667</td>\n",
       "    </tr>\n",
       "  </tbody>\n",
       "</table>\n",
       "</div>"
      ],
      "text/plain": [
       "                    Murder     Assault   UrbanPop       Rape\n",
       "K_means_segment                                             \n",
       "0                 4.672222   97.555556  54.500000  14.061111\n",
       "1                12.165000  255.250000  68.400000  29.165000\n",
       "2                 5.166667  139.750000  77.333333  18.766667"
      ]
     },
     "execution_count": 54,
     "metadata": {},
     "output_type": "execute_result"
    }
   ],
   "source": [
    "crime_data.iloc[:,1:5].groupby(crime_data.K_means_segment).mean()"
   ]
  },
  {
   "cell_type": "code",
   "execution_count": 55,
   "id": "2a41e162",
   "metadata": {
    "ExecuteTime": {
     "end_time": "2022-01-26T18:49:36.258968Z",
     "start_time": "2022-01-26T18:49:36.120091Z"
    }
   },
   "outputs": [
    {
     "data": {
      "text/html": [
       "<div>\n",
       "<style scoped>\n",
       "    .dataframe tbody tr th:only-of-type {\n",
       "        vertical-align: middle;\n",
       "    }\n",
       "\n",
       "    .dataframe tbody tr th {\n",
       "        vertical-align: top;\n",
       "    }\n",
       "\n",
       "    .dataframe thead th {\n",
       "        text-align: right;\n",
       "    }\n",
       "</style>\n",
       "<table border=\"1\" class=\"dataframe\">\n",
       "  <thead>\n",
       "    <tr style=\"text-align: right;\">\n",
       "      <th></th>\n",
       "      <th>Murder</th>\n",
       "      <th>Assault</th>\n",
       "      <th>UrbanPop</th>\n",
       "      <th>Rape</th>\n",
       "    </tr>\n",
       "    <tr>\n",
       "      <th>clust2</th>\n",
       "      <th></th>\n",
       "      <th></th>\n",
       "      <th></th>\n",
       "      <th></th>\n",
       "    </tr>\n",
       "  </thead>\n",
       "  <tbody>\n",
       "    <tr>\n",
       "      <th>0</th>\n",
       "      <td>4.64800</td>\n",
       "      <td>100.920000</td>\n",
       "      <td>61.040000</td>\n",
       "      <td>15.984000</td>\n",
       "    </tr>\n",
       "    <tr>\n",
       "      <th>1</th>\n",
       "      <td>9.48125</td>\n",
       "      <td>237.687500</td>\n",
       "      <td>79.562500</td>\n",
       "      <td>27.887500</td>\n",
       "    </tr>\n",
       "    <tr>\n",
       "      <th>2</th>\n",
       "      <td>13.50000</td>\n",
       "      <td>245.777778</td>\n",
       "      <td>53.111111</td>\n",
       "      <td>23.977778</td>\n",
       "    </tr>\n",
       "  </tbody>\n",
       "</table>\n",
       "</div>"
      ],
      "text/plain": [
       "          Murder     Assault   UrbanPop       Rape\n",
       "clust2                                            \n",
       "0        4.64800  100.920000  61.040000  15.984000\n",
       "1        9.48125  237.687500  79.562500  27.887500\n",
       "2       13.50000  245.777778  53.111111  23.977778"
      ]
     },
     "execution_count": 55,
     "metadata": {},
     "output_type": "execute_result"
    }
   ],
   "source": [
    "crime_data.iloc[:,1:5].groupby(crime_data.clust2).mean()"
   ]
  },
  {
   "cell_type": "markdown",
   "id": "24b0f264",
   "metadata": {},
   "source": [
    "Well we have divided the states on the basis of crime rate in the area Low, Medium and High. We performed three clustering methods to derive our concept and from all three Unsupervised clustering method K-Means clustering perform well on the datset.\n",
    "\n",
    "Cluster1- High crime rate in all crimes. This group states needs to be watched and crimes needs to be low down.\n",
    "\n",
    "Cluster2- Medium crime rate, as compared to the states in cluster1. These states needs to be taken care so that they cannot slips to cluster1, different government agencies should monitor.  \n",
    "\n",
    "Cluster0- Low crime rate, as more features crime rate are low."
   ]
  }
 ],
 "metadata": {
  "kernelspec": {
   "display_name": "Python 3 (ipykernel)",
   "language": "python",
   "name": "python3"
  },
  "language_info": {
   "codemirror_mode": {
    "name": "ipython",
    "version": 3
   },
   "file_extension": ".py",
   "mimetype": "text/x-python",
   "name": "python",
   "nbconvert_exporter": "python",
   "pygments_lexer": "ipython3",
   "version": "3.9.7"
  }
 },
 "nbformat": 4,
 "nbformat_minor": 5
}
